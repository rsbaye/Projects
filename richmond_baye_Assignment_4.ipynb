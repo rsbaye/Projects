{
  "cells": [
    {
      "cell_type": "markdown",
      "metadata": {
        "id": "view-in-github",
        "colab_type": "text"
      },
      "source": [
        "<a href=\"https://colab.research.google.com/github/rsbaye/Projects/blob/main/richmond_baye_Assignment_4.ipynb\" target=\"_parent\"><img src=\"https://colab.research.google.com/assets/colab-badge.svg\" alt=\"Open In Colab\"/></a>"
      ]
    },
    {
      "cell_type": "markdown",
      "source": [
        "# CS 254 Assignment 4\n",
        "\n",
        "Before we start, please put your name in following format:\n",
        "\n",
        "FirstName Lastname, netid //   e.g.) Safwan Wshah, swshah"
      ],
      "metadata": {
        "id": "9dfH2us2h0id"
      }
    },
    {
      "cell_type": "markdown",
      "source": [
        "To run your code:\n",
        "\n",
        "*   Save your code to google drive, right click and open using google colab.\n",
        "*   rename the assigmnent file to Yourfirstname_lastname_Assignment2.ipynb.\n",
        "*   Under google drive root directory create the following folder and make sure all your assignments are under this directory (CS254/CS254-Assignments/yournetid-A#). For example, for assignment #3 it should look like this \n",
        "CS254/CS254-Assignments/swshah-A3\n",
        "\n",
        "\n",
        "\n",
        "To submit, please follow the following steps:\n",
        "*   Zip your assignment and name it yournetid-A#.zip For example for assignment 2, it should be swshah-A3.zip.\n",
        "* Submit to blackboard. "
      ],
      "metadata": {
        "id": "XxWtZLyFh4Kq"
      }
    },
    {
      "cell_type": "markdown",
      "source": [
        "### Google Colab Setup\n",
        "Next we need to run a few commands to set up our environment on Google Colab. If you are running this notebook on a local machine you can skip this section.\n",
        "\n",
        "Run the following cell to mount your Google Drive. Follow the link, sign in to your Google account (the same account you used to store this notebook!) and copy the authorization code into the text box that appears below."
      ],
      "metadata": {
        "id": "6LfX6EnQh6NX"
      }
    },
    {
      "cell_type": "code",
      "source": [
        "from google.colab import drive\n",
        "drive.mount('/content/drive/')"
      ],
      "metadata": {
        "colab": {
          "base_uri": "https://localhost:8080/"
        },
        "id": "SqK_6AJPh8LG",
        "outputId": "4fbe6109-a224-48ac-dde1-8a2dc76ab838"
      },
      "execution_count": null,
      "outputs": [
        {
          "output_type": "stream",
          "name": "stdout",
          "text": [
            "Mounted at /content/drive/\n"
          ]
        }
      ]
    },
    {
      "cell_type": "markdown",
      "source": [
        "Now recall the path in your Google Drive where you uploaded this notebook, fill it in below. If everything is working correctly then running the folowing cell should print the filenames from the assignment:\n",
        "\n",
        "\n",
        "['yourfirst_last_name_Assignment_4.ipynb']"
      ],
      "metadata": {
        "id": "5XtVXUYriD7c"
      }
    },
    {
      "cell_type": "code",
      "source": [
        "import os\n",
        "\n",
        "# TODO: Fill in the Google Drive path where you uploaded the assignment, it should be under CS254/CS254-Assignments/netid-A2\n",
        "GOOGLE_DRIVE_PATH_AFTER_MYDRIVE = 'CS254/CS254-Assignments/rbaye-A4' # change this directory to yours\n",
        "GOOGLE_DRIVE_PATH = os.path.join('drive', 'MyDrive', GOOGLE_DRIVE_PATH_AFTER_MYDRIVE)\n",
        "print(os.listdir(GOOGLE_DRIVE_PATH))"
      ],
      "metadata": {
        "colab": {
          "base_uri": "https://localhost:8080/"
        },
        "id": "EgR8KZGtiGDC",
        "outputId": "055565ad-4cac-4fac-87d9-e348a4a74b08"
      },
      "execution_count": null,
      "outputs": [
        {
          "output_type": "stream",
          "name": "stdout",
          "text": [
            "['images', 'richmond_baye_Assignment_4.ipynb']\n"
          ]
        }
      ]
    },
    {
      "cell_type": "markdown",
      "metadata": {
        "id": "wIuccpUShwHT"
      },
      "source": [
        "# Assignment 4\n",
        "\n",
        "Below are the import statements and custom functions you will need to use in this assignment. Where relevant, documentation pages for necessary objects and functions have been linked in the instructions.\n",
        "\n",
        "In this assignment, you will be performing basic image classification using simple labeled images from the MNIST database - specifically, numbers 0 through 9.  Image classification is a higher-dimensional problem, and requires more powerful tools than the simpler classification problems like you have seen in Assignment 3.\n",
        "\n",
        "You will visualize the data, split it into training, validation, and testing groups, and then atempt to model it with both logistic regression and support vector machine methods from the sklearn library (you don't need to implement those from scratch). After modeling, you will analyze your results and determine how well each model performed, selecting and calculating performance metrics that justify your conclusions."
      ]
    },
    {
      "cell_type": "code",
      "execution_count": null,
      "metadata": {
        "id": "IBLq3U53hwHX"
      },
      "outputs": [],
      "source": [
        "# import modules\n",
        "import numpy as np\n",
        "import pandas as pd\n",
        "import matplotlib.pyplot as plt\n",
        "\n",
        "# sklearn utilities\n",
        "from sklearn import datasets\n",
        "from sklearn.model_selection import train_test_split\n",
        "from sklearn.metrics import confusion_matrix, classification_report\n",
        "\n",
        "# sklearn models\n",
        "from sklearn.linear_model import LogisticRegression\n",
        "from sklearn.tree import DecisionTreeClassifier\n",
        "from sklearn.svm import SVC\n",
        "from sklearn.ensemble import RandomForestClassifier\n",
        "from sklearn.decomposition import PCA"
      ]
    },
    {
      "cell_type": "code",
      "execution_count": null,
      "metadata": {
        "id": "R3RkvTcEhwHZ"
      },
      "outputs": [],
      "source": [
        "def warn(*args, **kwargs):\n",
        "    pass\n",
        "import warnings\n",
        "warnings.warn = warn"
      ]
    },
    {
      "cell_type": "code",
      "execution_count": null,
      "metadata": {
        "id": "GyNHaayahwHa"
      },
      "outputs": [],
      "source": [
        "#function that you will use to convert matrix to dataframe, useful for visulization. \n",
        "def conf_matrix_to_df(conf_matrix, target_names):\n",
        "    return pd.DataFrame(conf_matrix, columns=target_names, index=target_names)"
      ]
    },
    {
      "cell_type": "markdown",
      "metadata": {
        "id": "eiSOrzihhwHb"
      },
      "source": [
        "## Part 0: Prepare the data"
      ]
    },
    {
      "cell_type": "markdown",
      "metadata": {
        "id": "EKLJ31slhwHb"
      },
      "source": [
        "#### Q1) (5 points) Load Data\n",
        "- Using the <a href=\"https://scikit-learn.org/stable/modules/generated/sklearn.datasets.load_digits.html\">load_digits()</a> function from sklearn's datasets library, load the numerical MNIST data.\n",
        "- You will be using this same dataset for the entire assignment.\n",
        "\n"
      ]
    },
    {
      "cell_type": "code",
      "execution_count": null,
      "metadata": {
        "id": "rd0baM_vhwHc"
      },
      "outputs": [],
      "source": [
        "#databunch = # write your code here \n",
        "from sklearn.datasets import load_digits\n",
        "\n",
        "databunch = load_digits()\n",
        "\n",
        "X, y = databunch.data, databunch.target\n",
        "X = X.reshape(-1, 8, 8)"
      ]
    },
    {
      "cell_type": "code",
      "execution_count": null,
      "metadata": {
        "id": "wq4xMTr_hwHc",
        "outputId": "313c72e3-632b-4bfb-9e95-c5d4a3fbad0b",
        "colab": {
          "base_uri": "https://localhost:8080/",
          "height": 236
        }
      },
      "outputs": [
        {
          "output_type": "execute_result",
          "data": {
            "text/plain": [
              "     0    1    2     3     4     5    6    7    8    9  ...   55   56   57  \\\n",
              "0  0.0  0.0  5.0  13.0   9.0   1.0  0.0  0.0  0.0  0.0  ...  0.0  0.0  0.0   \n",
              "1  0.0  0.0  0.0  12.0  13.0   5.0  0.0  0.0  0.0  0.0  ...  0.0  0.0  0.0   \n",
              "2  0.0  0.0  0.0   4.0  15.0  12.0  0.0  0.0  0.0  0.0  ...  0.0  0.0  0.0   \n",
              "3  0.0  0.0  7.0  15.0  13.0   1.0  0.0  0.0  0.0  8.0  ...  0.0  0.0  0.0   \n",
              "4  0.0  0.0  0.0   1.0  11.0   0.0  0.0  0.0  0.0  0.0  ...  0.0  0.0  0.0   \n",
              "\n",
              "    58    59    60    61   62   63  target  \n",
              "0  6.0  13.0  10.0   0.0  0.0  0.0       0  \n",
              "1  0.0  11.0  16.0  10.0  0.0  0.0       1  \n",
              "2  0.0   3.0  11.0  16.0  9.0  0.0       2  \n",
              "3  7.0  13.0  13.0   9.0  0.0  0.0       3  \n",
              "4  0.0   2.0  16.0   4.0  0.0  0.0       4  \n",
              "\n",
              "[5 rows x 65 columns]"
            ],
            "text/html": [
              "\n",
              "  <div id=\"df-724e6cce-e947-4e0a-8cdc-fd93a4af89b3\">\n",
              "    <div class=\"colab-df-container\">\n",
              "      <div>\n",
              "<style scoped>\n",
              "    .dataframe tbody tr th:only-of-type {\n",
              "        vertical-align: middle;\n",
              "    }\n",
              "\n",
              "    .dataframe tbody tr th {\n",
              "        vertical-align: top;\n",
              "    }\n",
              "\n",
              "    .dataframe thead th {\n",
              "        text-align: right;\n",
              "    }\n",
              "</style>\n",
              "<table border=\"1\" class=\"dataframe\">\n",
              "  <thead>\n",
              "    <tr style=\"text-align: right;\">\n",
              "      <th></th>\n",
              "      <th>0</th>\n",
              "      <th>1</th>\n",
              "      <th>2</th>\n",
              "      <th>3</th>\n",
              "      <th>4</th>\n",
              "      <th>5</th>\n",
              "      <th>6</th>\n",
              "      <th>7</th>\n",
              "      <th>8</th>\n",
              "      <th>9</th>\n",
              "      <th>...</th>\n",
              "      <th>55</th>\n",
              "      <th>56</th>\n",
              "      <th>57</th>\n",
              "      <th>58</th>\n",
              "      <th>59</th>\n",
              "      <th>60</th>\n",
              "      <th>61</th>\n",
              "      <th>62</th>\n",
              "      <th>63</th>\n",
              "      <th>target</th>\n",
              "    </tr>\n",
              "  </thead>\n",
              "  <tbody>\n",
              "    <tr>\n",
              "      <th>0</th>\n",
              "      <td>0.0</td>\n",
              "      <td>0.0</td>\n",
              "      <td>5.0</td>\n",
              "      <td>13.0</td>\n",
              "      <td>9.0</td>\n",
              "      <td>1.0</td>\n",
              "      <td>0.0</td>\n",
              "      <td>0.0</td>\n",
              "      <td>0.0</td>\n",
              "      <td>0.0</td>\n",
              "      <td>...</td>\n",
              "      <td>0.0</td>\n",
              "      <td>0.0</td>\n",
              "      <td>0.0</td>\n",
              "      <td>6.0</td>\n",
              "      <td>13.0</td>\n",
              "      <td>10.0</td>\n",
              "      <td>0.0</td>\n",
              "      <td>0.0</td>\n",
              "      <td>0.0</td>\n",
              "      <td>0</td>\n",
              "    </tr>\n",
              "    <tr>\n",
              "      <th>1</th>\n",
              "      <td>0.0</td>\n",
              "      <td>0.0</td>\n",
              "      <td>0.0</td>\n",
              "      <td>12.0</td>\n",
              "      <td>13.0</td>\n",
              "      <td>5.0</td>\n",
              "      <td>0.0</td>\n",
              "      <td>0.0</td>\n",
              "      <td>0.0</td>\n",
              "      <td>0.0</td>\n",
              "      <td>...</td>\n",
              "      <td>0.0</td>\n",
              "      <td>0.0</td>\n",
              "      <td>0.0</td>\n",
              "      <td>0.0</td>\n",
              "      <td>11.0</td>\n",
              "      <td>16.0</td>\n",
              "      <td>10.0</td>\n",
              "      <td>0.0</td>\n",
              "      <td>0.0</td>\n",
              "      <td>1</td>\n",
              "    </tr>\n",
              "    <tr>\n",
              "      <th>2</th>\n",
              "      <td>0.0</td>\n",
              "      <td>0.0</td>\n",
              "      <td>0.0</td>\n",
              "      <td>4.0</td>\n",
              "      <td>15.0</td>\n",
              "      <td>12.0</td>\n",
              "      <td>0.0</td>\n",
              "      <td>0.0</td>\n",
              "      <td>0.0</td>\n",
              "      <td>0.0</td>\n",
              "      <td>...</td>\n",
              "      <td>0.0</td>\n",
              "      <td>0.0</td>\n",
              "      <td>0.0</td>\n",
              "      <td>0.0</td>\n",
              "      <td>3.0</td>\n",
              "      <td>11.0</td>\n",
              "      <td>16.0</td>\n",
              "      <td>9.0</td>\n",
              "      <td>0.0</td>\n",
              "      <td>2</td>\n",
              "    </tr>\n",
              "    <tr>\n",
              "      <th>3</th>\n",
              "      <td>0.0</td>\n",
              "      <td>0.0</td>\n",
              "      <td>7.0</td>\n",
              "      <td>15.0</td>\n",
              "      <td>13.0</td>\n",
              "      <td>1.0</td>\n",
              "      <td>0.0</td>\n",
              "      <td>0.0</td>\n",
              "      <td>0.0</td>\n",
              "      <td>8.0</td>\n",
              "      <td>...</td>\n",
              "      <td>0.0</td>\n",
              "      <td>0.0</td>\n",
              "      <td>0.0</td>\n",
              "      <td>7.0</td>\n",
              "      <td>13.0</td>\n",
              "      <td>13.0</td>\n",
              "      <td>9.0</td>\n",
              "      <td>0.0</td>\n",
              "      <td>0.0</td>\n",
              "      <td>3</td>\n",
              "    </tr>\n",
              "    <tr>\n",
              "      <th>4</th>\n",
              "      <td>0.0</td>\n",
              "      <td>0.0</td>\n",
              "      <td>0.0</td>\n",
              "      <td>1.0</td>\n",
              "      <td>11.0</td>\n",
              "      <td>0.0</td>\n",
              "      <td>0.0</td>\n",
              "      <td>0.0</td>\n",
              "      <td>0.0</td>\n",
              "      <td>0.0</td>\n",
              "      <td>...</td>\n",
              "      <td>0.0</td>\n",
              "      <td>0.0</td>\n",
              "      <td>0.0</td>\n",
              "      <td>0.0</td>\n",
              "      <td>2.0</td>\n",
              "      <td>16.0</td>\n",
              "      <td>4.0</td>\n",
              "      <td>0.0</td>\n",
              "      <td>0.0</td>\n",
              "      <td>4</td>\n",
              "    </tr>\n",
              "  </tbody>\n",
              "</table>\n",
              "<p>5 rows × 65 columns</p>\n",
              "</div>\n",
              "      <button class=\"colab-df-convert\" onclick=\"convertToInteractive('df-724e6cce-e947-4e0a-8cdc-fd93a4af89b3')\"\n",
              "              title=\"Convert this dataframe to an interactive table.\"\n",
              "              style=\"display:none;\">\n",
              "        \n",
              "  <svg xmlns=\"http://www.w3.org/2000/svg\" height=\"24px\"viewBox=\"0 0 24 24\"\n",
              "       width=\"24px\">\n",
              "    <path d=\"M0 0h24v24H0V0z\" fill=\"none\"/>\n",
              "    <path d=\"M18.56 5.44l.94 2.06.94-2.06 2.06-.94-2.06-.94-.94-2.06-.94 2.06-2.06.94zm-11 1L8.5 8.5l.94-2.06 2.06-.94-2.06-.94L8.5 2.5l-.94 2.06-2.06.94zm10 10l.94 2.06.94-2.06 2.06-.94-2.06-.94-.94-2.06-.94 2.06-2.06.94z\"/><path d=\"M17.41 7.96l-1.37-1.37c-.4-.4-.92-.59-1.43-.59-.52 0-1.04.2-1.43.59L10.3 9.45l-7.72 7.72c-.78.78-.78 2.05 0 2.83L4 21.41c.39.39.9.59 1.41.59.51 0 1.02-.2 1.41-.59l7.78-7.78 2.81-2.81c.8-.78.8-2.07 0-2.86zM5.41 20L4 18.59l7.72-7.72 1.47 1.35L5.41 20z\"/>\n",
              "  </svg>\n",
              "      </button>\n",
              "      \n",
              "  <style>\n",
              "    .colab-df-container {\n",
              "      display:flex;\n",
              "      flex-wrap:wrap;\n",
              "      gap: 12px;\n",
              "    }\n",
              "\n",
              "    .colab-df-convert {\n",
              "      background-color: #E8F0FE;\n",
              "      border: none;\n",
              "      border-radius: 50%;\n",
              "      cursor: pointer;\n",
              "      display: none;\n",
              "      fill: #1967D2;\n",
              "      height: 32px;\n",
              "      padding: 0 0 0 0;\n",
              "      width: 32px;\n",
              "    }\n",
              "\n",
              "    .colab-df-convert:hover {\n",
              "      background-color: #E2EBFA;\n",
              "      box-shadow: 0px 1px 2px rgba(60, 64, 67, 0.3), 0px 1px 3px 1px rgba(60, 64, 67, 0.15);\n",
              "      fill: #174EA6;\n",
              "    }\n",
              "\n",
              "    [theme=dark] .colab-df-convert {\n",
              "      background-color: #3B4455;\n",
              "      fill: #D2E3FC;\n",
              "    }\n",
              "\n",
              "    [theme=dark] .colab-df-convert:hover {\n",
              "      background-color: #434B5C;\n",
              "      box-shadow: 0px 1px 3px 1px rgba(0, 0, 0, 0.15);\n",
              "      filter: drop-shadow(0px 1px 2px rgba(0, 0, 0, 0.3));\n",
              "      fill: #FFFFFF;\n",
              "    }\n",
              "  </style>\n",
              "\n",
              "      <script>\n",
              "        const buttonEl =\n",
              "          document.querySelector('#df-724e6cce-e947-4e0a-8cdc-fd93a4af89b3 button.colab-df-convert');\n",
              "        buttonEl.style.display =\n",
              "          google.colab.kernel.accessAllowed ? 'block' : 'none';\n",
              "\n",
              "        async function convertToInteractive(key) {\n",
              "          const element = document.querySelector('#df-724e6cce-e947-4e0a-8cdc-fd93a4af89b3');\n",
              "          const dataTable =\n",
              "            await google.colab.kernel.invokeFunction('convertToInteractive',\n",
              "                                                     [key], {});\n",
              "          if (!dataTable) return;\n",
              "\n",
              "          const docLinkHtml = 'Like what you see? Visit the ' +\n",
              "            '<a target=\"_blank\" href=https://colab.research.google.com/notebooks/data_table.ipynb>data table notebook</a>'\n",
              "            + ' to learn more about interactive tables.';\n",
              "          element.innerHTML = '';\n",
              "          dataTable['output_type'] = 'display_data';\n",
              "          await google.colab.output.renderOutput(dataTable, element);\n",
              "          const docLink = document.createElement('div');\n",
              "          docLink.innerHTML = docLinkHtml;\n",
              "          element.appendChild(docLink);\n",
              "        }\n",
              "      </script>\n",
              "    </div>\n",
              "  </div>\n",
              "  "
            ]
          },
          "metadata": {},
          "execution_count": 43
        }
      ],
      "source": [
        "# Test function, You will not need this dataframe for any of the following questions. \n",
        "# The purpose of making this dataframe is to practice this paradigm. You should get similar ot the below table.\n",
        "df = pd.DataFrame(databunch.data)\n",
        "df['target'] = databunch.target\n",
        "df.head()"
      ]
    },
    {
      "cell_type": "markdown",
      "metadata": {
        "id": "z6OLz9D4hwHe"
      },
      "source": [
        "#### Q2) (10 points) Visualize data-points\n",
        "Use matplotlib.pyplot's imshow function to plot and display the first five items in our dataset. The title of the plot should be the target value associated with the data on display - a target value of 9, for example, will be the title of an image plot of data showing the number 9.\n",
        "You will need to reshape your data from a flat array into a square matrix in order to correctly display the images - documentation of pyplot's imshow function may be found <a href=\"https://matplotlib.org/stable/api/_as_gen/matplotlib.pyplot.imshow.html\"> <b> here </b></a>"
      ]
    },
    {
      "cell_type": "code",
      "execution_count": null,
      "metadata": {
        "scrolled": true,
        "id": "_SV_jxt5hwHf",
        "outputId": "4b3e84f4-a6b0-4181-9444-7aaf826932bf",
        "colab": {
          "base_uri": "https://localhost:8080/",
          "height": 1337
        }
      },
      "outputs": [
        {
          "output_type": "display_data",
          "data": {
            "text/plain": [
              "<Figure size 432x288 with 1 Axes>"
            ],
            "image/png": "[encoded data removed]"
          },
          "metadata": {
            "needs_background": "light"
          }
        },
        {
          "output_type": "display_data",
          "data": {
            "text/plain": [
              "<Figure size 432x288 with 1 Axes>"
            ],
            "image/png": "[encoded data removed]"
          },
          "metadata": {
            "needs_background": "light"
          }
        },
        {
          "output_type": "display_data",
          "data": {
            "text/plain": [
              "<Figure size 432x288 with 1 Axes>"
            ],
            "image/png": "[encoded data removed]"
          },
          "metadata": {
            "needs_background": "light"
          }
        },
        {
          "output_type": "display_data",
          "data": {
            "text/plain": [
              "<Figure size 432x288 with 1 Axes>"
            ],
            "image/png": "[encoded data removed]"
          },
          "metadata": {
            "needs_background": "light"
          }
        },
        {
          "output_type": "display_data",
          "data": {
            "text/plain": [
              "<Figure size 432x288 with 1 Axes>"
            ],
            "image/png": "[encoded data removed]"
          },
          "metadata": {
            "needs_background": "light"
          }
        }
      ],
      "source": [
        "for i in range(5):\n",
        "  plt.imshow(X[i], cmap = \"gray\", norm=None)\n",
        "  plt.title(\"Target value: {}\".format(y[i]))\n",
        "  plt.show()\n",
        "\n",
        "    # add your code here, you should get similar to the below images."
      ]
    },
    {
      "cell_type": "markdown",
      "metadata": {
        "id": "8EodWNw_hwHg"
      },
      "source": [
        "#### Grad Students Question (Extra credit for Undergraduates) ) (20 points) Dimensionality Reduction\n",
        "- Using Principle Component Analysis, find the data's two primary components.\n",
        "- Once you have done this, plot the data by these two components with a scatterplot. Color the datapoints according to their classification - all zeros should be one color, as should all ones, all twos, and so on. While this data is high-dimensional and therefore going to overlap, all points within the same class should be roughly grouped together.\n",
        "\n",
        "Hint: The PCA object in SKlearn operates the same way as the PolynomialFeatures object. That is, once you create a PCA object with some parameters, you can use it to \"fit_transform\" your data.<br> https://scikit-learn.org/stable/modules/generated/sklearn.decomposition.PCA.html"
      ]
    },
    {
      "cell_type": "code",
      "execution_count": null,
      "metadata": {
        "id": "_zLhtuX7hwHh",
        "outputId": "755264a0-5aca-4fbc-c055-4940be4e0a91",
        "colab": {
          "base_uri": "https://localhost:8080/",
          "height": 279
        }
      },
      "outputs": [
        {
          "output_type": "display_data",
          "data": {
            "text/plain": [
              "<Figure size 432x288 with 1 Axes>"
            ],
            "image/png": "[encoded data removed]"
          },
          "metadata": {
            "needs_background": "light"
          }
        }
      ],
      "source": [
        "pca = PCA(n_components=2)\n",
        "transformed_data = pca.fit_transform(databunch.data)\n",
        "# add your code here to visulzie your data, you should get simialr image as bellow.\n",
        "colors = ['r', 'g', 'b', 'c', 'm', 'y', 'k', 'gray', 'orange', 'purple']\n",
        "\n",
        "for i in range(10):\n",
        "  plt.scatter(transformed_data[databunch.target == i, 0], transformed_data[databunch.target == i, 1], c = colors[i], label = str(i), alpha= 0.5)\n",
        "plt.xlabel(\"PCA components 1\")\n",
        "plt.ylabel(\"PCA components 2\")\n",
        "plt.legend(loc='lower right')\n",
        "plt.show()              "
      ]
    },
    {
      "cell_type": "markdown",
      "metadata": {
        "id": "yV1QMKhRhwHi"
      },
      "source": [
        "#### Q3) (10 points) Train Test Split\n",
        "- To validate model performance and generalization ability, we need to create training and testing groups.\n",
        "- Use the <a href=\"https://scikit-learn.org/stable/modules/generated/sklearn.model_selection.train_test_split.htmlsklearn\"> train_test_split function </a> to split your dataset into training data and testing data. This function has already been imported; you simply need to correctly call it and store its output.\n",
        "\n",
        "\n",
        "<b>Important: when you call this function, you must use a test size of 0.25 and a random_state of 0.*</b>"
      ]
    },
    {
      "cell_type": "code",
      "execution_count": null,
      "metadata": {
        "id": "Hkn2b0kdhwHj"
      },
      "outputs": [],
      "source": [
        " x_train, x_test, y_train, y_test = train_test_split(databunch.data, databunch.target, test_size=0.25, random_state=0)"
      ]
    },
    {
      "cell_type": "code",
      "execution_count": null,
      "metadata": {
        "id": "mVSl3O2_hwHk",
        "outputId": "4739fca9-b8a3-426d-b24e-0dd691d654da",
        "colab": {
          "base_uri": "https://localhost:8080/"
        }
      },
      "outputs": [
        {
          "output_type": "stream",
          "name": "stdout",
          "text": [
            "Training x: (1347, 64) y: (1347,)\n",
            "Testing x: (450, 64) y: (450,)\n"
          ]
        }
      ],
      "source": [
        "#$ test function, If correctly split, your data and targets should be of shapes \n",
        "# Training: x: (1347, 64) y: (1347,), Testing:  x: (450, 64)  y: (450,)\n",
        "print(\"Training x:\", x_train.shape,\"y:\", y_train.shape)\n",
        "print(\"Testing x:\", x_test.shape,\"y:\", y_test.shape)"
      ]
    },
    {
      "cell_type": "markdown",
      "metadata": {
        "id": "CyaoHXEvhwHl"
      },
      "source": [
        "## Part 1: Regression"
      ]
    },
    {
      "cell_type": "markdown",
      "metadata": {
        "id": "nCOtg2u0hwHl"
      },
      "source": [
        "#### Q4)  (15 points) Logistic Regression model\n",
        "- Create a <a href=\"https://scikit-learn.org/stable/modules/generated/sklearn.linear_model.LogisticRegression.html?highlight=logisticregression#sklearn.linear_model.LogisticRegression\"> LogisticRegression</a> object. This object has already been imported from sklearn's linear_model class. You do not need to add any additional arguments to the object's initialization, the default settings will be fine.\n",
        "- Call LogisticRegression's .fit() function on your model, using your training data as parameters.\n",
        "- Call LogisticRegression's .predict() function on your model using your testing data as a parameter and store the results."
      ]
    },
    {
      "cell_type": "code",
      "execution_count": null,
      "metadata": {
        "id": "sSo1xSL_hwHm"
      },
      "outputs": [],
      "source": [
        "logistic_regression = LogisticRegression()\n",
        "logistic_regression.fit(x_train, y_train)\n",
        "y_predicted  = logistic_regression.predict(x_test)"
      ]
    },
    {
      "cell_type": "markdown",
      "metadata": {
        "id": "nX9J2TEzhwHm"
      },
      "source": [
        "#### Q5) (10 points) Visualization\n",
        "- Use sklearn's <a href=\"https://scikit-learn.org/stable/modules/generated/sklearn.metrics.confusion_matrix.html\">confusion matrix</a> function to obtain a confusion matrix of your results.\n",
        "- print this confusion matrix.\n",
        "- Display this confusion matrix as a heatmap using pyplot's imshow() function, with true class names along the x axis and predicted class names along the y axis.\n",
        "\n",
        "Recall the general form of a confusion matrix:\n",
        "\n",
        "![alt_text](https://drive.google.com/uc?id=1ddazyReK2QGcSFwt7MDBswOJchsSGnza)\n",
        "\n",
        "\n",
        "This example is a simple binary - classes are either \"yes\" or \"no\". The matrix you create will be for ten classes - 0 through 9. The value at a given index [i,j] will indicate how many times your model classified data from class i as being from class j. A correct classification has been made when i and j are the same. Therefore, if your model is working correctly, you should see a diagonal line of higher numbers running from [0,0] to [9,9] in your matrix, and very low numbers everywhere else."
      ]
    },
    {
      "cell_type": "code",
      "execution_count": null,
      "metadata": {
        "id": "eyH0Vg9EhwHn",
        "outputId": "039bee4a-cf45-446f-c467-7f6bcf409402",
        "colab": {
          "base_uri": "https://localhost:8080/",
          "height": 537
        }
      },
      "outputs": [
        {
          "output_type": "stream",
          "name": "stdout",
          "text": [
            "[[37  0  0  0  0  0  0  0  0  0]\n",
            " [ 0 40  0  0  0  0  0  0  2  1]\n",
            " [ 0  1 40  3  0  0  0  0  0  0]\n",
            " [ 0  0  0 43  0  0  0  0  1  1]\n",
            " [ 0  0  0  0 37  0  0  1  0  0]\n",
            " [ 0  0  0  0  0 46  0  0  0  2]\n",
            " [ 0  1  0  0  0  0 51  0  0  0]\n",
            " [ 0  0  0  1  1  0  0 46  0  0]\n",
            " [ 0  3  1  0  0  0  0  0 43  1]\n",
            " [ 0  0  0  0  0  1  0  0  1 45]]\n"
          ]
        },
        {
          "output_type": "execute_result",
          "data": {
            "text/plain": [
              "    0   1   2   3   4   5   6   7   8   9\n",
              "0  37   0   0   0   0   0   0   0   0   0\n",
              "1   0  40   0   0   0   0   0   0   2   1\n",
              "2   0   1  40   3   0   0   0   0   0   0\n",
              "3   0   0   0  43   0   0   0   0   1   1\n",
              "4   0   0   0   0  37   0   0   1   0   0\n",
              "5   0   0   0   0   0  46   0   0   0   2\n",
              "6   0   1   0   0   0   0  51   0   0   0\n",
              "7   0   0   0   1   1   0   0  46   0   0\n",
              "8   0   3   1   0   0   0   0   0  43   1\n",
              "9   0   0   0   0   0   1   0   0   1  45"
            ],
            "text/html": [
              "\n",
              "  <div id=\"df-5ec7b241-61cc-4ff4-8aa7-f066d4d29537\">\n",
              "    <div class=\"colab-df-container\">\n",
              "      <div>\n",
              "<style scoped>\n",
              "    .dataframe tbody tr th:only-of-type {\n",
              "        vertical-align: middle;\n",
              "    }\n",
              "\n",
              "    .dataframe tbody tr th {\n",
              "        vertical-align: top;\n",
              "    }\n",
              "\n",
              "    .dataframe thead th {\n",
              "        text-align: right;\n",
              "    }\n",
              "</style>\n",
              "<table border=\"1\" class=\"dataframe\">\n",
              "  <thead>\n",
              "    <tr style=\"text-align: right;\">\n",
              "      <th></th>\n",
              "      <th>0</th>\n",
              "      <th>1</th>\n",
              "      <th>2</th>\n",
              "      <th>3</th>\n",
              "      <th>4</th>\n",
              "      <th>5</th>\n",
              "      <th>6</th>\n",
              "      <th>7</th>\n",
              "      <th>8</th>\n",
              "      <th>9</th>\n",
              "    </tr>\n",
              "  </thead>\n",
              "  <tbody>\n",
              "    <tr>\n",
              "      <th>0</th>\n",
              "      <td>37</td>\n",
              "      <td>0</td>\n",
              "      <td>0</td>\n",
              "      <td>0</td>\n",
              "      <td>0</td>\n",
              "      <td>0</td>\n",
              "      <td>0</td>\n",
              "      <td>0</td>\n",
              "      <td>0</td>\n",
              "      <td>0</td>\n",
              "    </tr>\n",
              "    <tr>\n",
              "      <th>1</th>\n",
              "      <td>0</td>\n",
              "      <td>40</td>\n",
              "      <td>0</td>\n",
              "      <td>0</td>\n",
              "      <td>0</td>\n",
              "      <td>0</td>\n",
              "      <td>0</td>\n",
              "      <td>0</td>\n",
              "      <td>2</td>\n",
              "      <td>1</td>\n",
              "    </tr>\n",
              "    <tr>\n",
              "      <th>2</th>\n",
              "      <td>0</td>\n",
              "      <td>1</td>\n",
              "      <td>40</td>\n",
              "      <td>3</td>\n",
              "      <td>0</td>\n",
              "      <td>0</td>\n",
              "      <td>0</td>\n",
              "      <td>0</td>\n",
              "      <td>0</td>\n",
              "      <td>0</td>\n",
              "    </tr>\n",
              "    <tr>\n",
              "      <th>3</th>\n",
              "      <td>0</td>\n",
              "      <td>0</td>\n",
              "      <td>0</td>\n",
              "      <td>43</td>\n",
              "      <td>0</td>\n",
              "      <td>0</td>\n",
              "      <td>0</td>\n",
              "      <td>0</td>\n",
              "      <td>1</td>\n",
              "      <td>1</td>\n",
              "    </tr>\n",
              "    <tr>\n",
              "      <th>4</th>\n",
              "      <td>0</td>\n",
              "      <td>0</td>\n",
              "      <td>0</td>\n",
              "      <td>0</td>\n",
              "      <td>37</td>\n",
              "      <td>0</td>\n",
              "      <td>0</td>\n",
              "      <td>1</td>\n",
              "      <td>0</td>\n",
              "      <td>0</td>\n",
              "    </tr>\n",
              "    <tr>\n",
              "      <th>5</th>\n",
              "      <td>0</td>\n",
              "      <td>0</td>\n",
              "      <td>0</td>\n",
              "      <td>0</td>\n",
              "      <td>0</td>\n",
              "      <td>46</td>\n",
              "      <td>0</td>\n",
              "      <td>0</td>\n",
              "      <td>0</td>\n",
              "      <td>2</td>\n",
              "    </tr>\n",
              "    <tr>\n",
              "      <th>6</th>\n",
              "      <td>0</td>\n",
              "      <td>1</td>\n",
              "      <td>0</td>\n",
              "      <td>0</td>\n",
              "      <td>0</td>\n",
              "      <td>0</td>\n",
              "      <td>51</td>\n",
              "      <td>0</td>\n",
              "      <td>0</td>\n",
              "      <td>0</td>\n",
              "    </tr>\n",
              "    <tr>\n",
              "      <th>7</th>\n",
              "      <td>0</td>\n",
              "      <td>0</td>\n",
              "      <td>0</td>\n",
              "      <td>1</td>\n",
              "      <td>1</td>\n",
              "      <td>0</td>\n",
              "      <td>0</td>\n",
              "      <td>46</td>\n",
              "      <td>0</td>\n",
              "      <td>0</td>\n",
              "    </tr>\n",
              "    <tr>\n",
              "      <th>8</th>\n",
              "      <td>0</td>\n",
              "      <td>3</td>\n",
              "      <td>1</td>\n",
              "      <td>0</td>\n",
              "      <td>0</td>\n",
              "      <td>0</td>\n",
              "      <td>0</td>\n",
              "      <td>0</td>\n",
              "      <td>43</td>\n",
              "      <td>1</td>\n",
              "    </tr>\n",
              "    <tr>\n",
              "      <th>9</th>\n",
              "      <td>0</td>\n",
              "      <td>0</td>\n",
              "      <td>0</td>\n",
              "      <td>0</td>\n",
              "      <td>0</td>\n",
              "      <td>1</td>\n",
              "      <td>0</td>\n",
              "      <td>0</td>\n",
              "      <td>1</td>\n",
              "      <td>45</td>\n",
              "    </tr>\n",
              "  </tbody>\n",
              "</table>\n",
              "</div>\n",
              "      <button class=\"colab-df-convert\" onclick=\"convertToInteractive('df-5ec7b241-61cc-4ff4-8aa7-f066d4d29537')\"\n",
              "              title=\"Convert this dataframe to an interactive table.\"\n",
              "              style=\"display:none;\">\n",
              "        \n",
              "  <svg xmlns=\"http://www.w3.org/2000/svg\" height=\"24px\"viewBox=\"0 0 24 24\"\n",
              "       width=\"24px\">\n",
              "    <path d=\"M0 0h24v24H0V0z\" fill=\"none\"/>\n",
              "    <path d=\"M18.56 5.44l.94 2.06.94-2.06 2.06-.94-2.06-.94-.94-2.06-.94 2.06-2.06.94zm-11 1L8.5 8.5l.94-2.06 2.06-.94-2.06-.94L8.5 2.5l-.94 2.06-2.06.94zm10 10l.94 2.06.94-2.06 2.06-.94-2.06-.94-.94-2.06-.94 2.06-2.06.94z\"/><path d=\"M17.41 7.96l-1.37-1.37c-.4-.4-.92-.59-1.43-.59-.52 0-1.04.2-1.43.59L10.3 9.45l-7.72 7.72c-.78.78-.78 2.05 0 2.83L4 21.41c.39.39.9.59 1.41.59.51 0 1.02-.2 1.41-.59l7.78-7.78 2.81-2.81c.8-.78.8-2.07 0-2.86zM5.41 20L4 18.59l7.72-7.72 1.47 1.35L5.41 20z\"/>\n",
              "  </svg>\n",
              "      </button>\n",
              "      \n",
              "  <style>\n",
              "    .colab-df-container {\n",
              "      display:flex;\n",
              "      flex-wrap:wrap;\n",
              "      gap: 12px;\n",
              "    }\n",
              "\n",
              "    .colab-df-convert {\n",
              "      background-color: #E8F0FE;\n",
              "      border: none;\n",
              "      border-radius: 50%;\n",
              "      cursor: pointer;\n",
              "      display: none;\n",
              "      fill: #1967D2;\n",
              "      height: 32px;\n",
              "      padding: 0 0 0 0;\n",
              "      width: 32px;\n",
              "    }\n",
              "\n",
              "    .colab-df-convert:hover {\n",
              "      background-color: #E2EBFA;\n",
              "      box-shadow: 0px 1px 2px rgba(60, 64, 67, 0.3), 0px 1px 3px 1px rgba(60, 64, 67, 0.15);\n",
              "      fill: #174EA6;\n",
              "    }\n",
              "\n",
              "    [theme=dark] .colab-df-convert {\n",
              "      background-color: #3B4455;\n",
              "      fill: #D2E3FC;\n",
              "    }\n",
              "\n",
              "    [theme=dark] .colab-df-convert:hover {\n",
              "      background-color: #434B5C;\n",
              "      box-shadow: 0px 1px 3px 1px rgba(0, 0, 0, 0.15);\n",
              "      filter: drop-shadow(0px 1px 2px rgba(0, 0, 0, 0.3));\n",
              "      fill: #FFFFFF;\n",
              "    }\n",
              "  </style>\n",
              "\n",
              "      <script>\n",
              "        const buttonEl =\n",
              "          document.querySelector('#df-5ec7b241-61cc-4ff4-8aa7-f066d4d29537 button.colab-df-convert');\n",
              "        buttonEl.style.display =\n",
              "          google.colab.kernel.accessAllowed ? 'block' : 'none';\n",
              "\n",
              "        async function convertToInteractive(key) {\n",
              "          const element = document.querySelector('#df-5ec7b241-61cc-4ff4-8aa7-f066d4d29537');\n",
              "          const dataTable =\n",
              "            await google.colab.kernel.invokeFunction('convertToInteractive',\n",
              "                                                     [key], {});\n",
              "          if (!dataTable) return;\n",
              "\n",
              "          const docLinkHtml = 'Like what you see? Visit the ' +\n",
              "            '<a target=\"_blank\" href=https://colab.research.google.com/notebooks/data_table.ipynb>data table notebook</a>'\n",
              "            + ' to learn more about interactive tables.';\n",
              "          element.innerHTML = '';\n",
              "          dataTable['output_type'] = 'display_data';\n",
              "          await google.colab.output.renderOutput(dataTable, element);\n",
              "          const docLink = document.createElement('div');\n",
              "          docLink.innerHTML = docLinkHtml;\n",
              "          element.appendChild(docLink);\n",
              "        }\n",
              "      </script>\n",
              "    </div>\n",
              "  </div>\n",
              "  "
            ]
          },
          "metadata": {},
          "execution_count": 56
        }
      ],
      "source": [
        "# add your code here, you should get similar to the results below.\n",
        "conf_matrix = confusion_matrix(y_test, y_predicted)\n",
        "print(conf_matrix)\n",
        "conf_matrix_to_df(conf_matrix, databunch.target_names)"
      ]
    },
    {
      "cell_type": "code",
      "execution_count": null,
      "metadata": {
        "id": "5NNVPpUMhwHn",
        "outputId": "aef46677-2b13-4b35-f4c0-af1a1dcace67",
        "colab": {
          "base_uri": "https://localhost:8080/",
          "height": 499
        }
      },
      "outputs": [
        {
          "output_type": "display_data",
          "data": {
            "text/plain": [
              "<Figure size 720x576 with 2 Axes>"
            ],
            "image/png": "[encoded data removed]"
          },
          "metadata": {
            "needs_background": "light"
          }
        }
      ],
      "source": [
        "# add your code here to visualize the confusion matrix heat map, the output should look similar to the image below.\n",
        "# hint use plt.imshow and plt.colorbar() functions\n",
        "\n",
        "fig, ax = plt.subplots(figsize=(10,8))\n",
        "im = ax.imshow(conf_matrix, cmap='viridis')\n",
        "\n",
        "ax.set_xticks(range(len(databunch.target_names)))\n",
        "ax.set_yticks(range(len(databunch.target_names)))\n",
        "ax.set_xticklabels(databunch.target_names)\n",
        "ax.set_yticklabels(databunch.target_names)\n",
        "\n",
        "plt.setp(ax.get_xticklabels(), rotation=0, ha=\"right\",\n",
        "         rotation_mode=\"anchor\")\n",
        "for i in range(len(databunch.target_names)):\n",
        "    for j in range(len(databunch.target_names)):\n",
        "        text = ax.text(j, i, conf_matrix[i, j],\n",
        "                       ha=\"center\", va=\"center\", color=\"w\")\n",
        "ax.set_title(\"Confusion Matrix\")\n",
        "fig.colorbar(im)\n",
        "plt.show()\n"
      ]
    },
    {
      "cell_type": "markdown",
      "metadata": {
        "id": "gA2qYqgRhwHo"
      },
      "source": [
        "#### Q6) (15 points) Performance Metrics\n",
        "- Write your own code to calculate the precision and recall values for all classes. The basic forumulas for precision and recall are provided below. \n",
        "\n",
        "![alt_text](https://drive.google.com/uc?id=1yXpun8xeq87UI6kCKILkdaHPiQNtWUe5)\n",
        "\n",
        "Compare your results with the sklearn's classification_report function to make sure your are getting the same results."
      ]
    },
    {
      "cell_type": "code",
      "execution_count": null,
      "metadata": {
        "id": "-mTeKJhphwHo",
        "outputId": "1ec19eaf-00cc-4271-fcea-fdf55e4536c6",
        "colab": {
          "base_uri": "https://localhost:8080/"
        }
      },
      "outputs": [
        {
          "output_type": "stream",
          "name": "stdout",
          "text": [
            " Class Label  Precision   Recall\n",
            "           0   1.000000 1.000000\n",
            "           1   0.888889 0.930233\n",
            "           2   0.975610 0.909091\n",
            "           3   0.914894 0.955556\n",
            "           4   0.973684 0.973684\n",
            "           5   0.978723 0.958333\n",
            "           6   1.000000 0.980769\n",
            "           7   0.978723 0.958333\n",
            "           8   0.914894 0.895833\n",
            "           9   0.900000 0.957447\n"
          ]
        }
      ],
      "source": [
        "\n",
        "def precision_recall(y_train, y_predicted, class_labels):\n",
        "    num_classes = len(class_labels)\n",
        "    precision_scores = np.zeros(num_classes)\n",
        "    recall_scores = np.zeros(num_classes)\n",
        "    for i in range(num_classes):\n",
        "        tp = np.sum((y_train == i) & (y_predicted == i))\n",
        "        fp = np.sum((y_train != i) & (y_predicted == i))\n",
        "        fn = np.sum((y_train == i) & (y_predicted != i))\n",
        "        precision_scores[i] = tp / (tp + fp)\n",
        "        recall_scores[i] = tp / (tp + fn)\n",
        "    return precision_scores, recall_scores\n",
        "class_labels = databunch.target_names\n",
        "precision, recall = precision_recall(y_test, y_predicted, class_labels)\n",
        "class_labels = databunch.target_names\n",
        "precision_recall_df = pd.DataFrame({'Class Label': class_labels, 'Precision': precision, 'Recall': recall})\n",
        "\n",
        "print(precision_recall_df.to_string(index=False))\n",
        "\n",
        "\n"
      ]
    },
    {
      "cell_type": "code",
      "execution_count": null,
      "metadata": {
        "id": "RXPBK-64hwHp",
        "colab": {
          "base_uri": "https://localhost:8080/"
        },
        "outputId": "6ace9c00-a27b-40ff-e918-e9ef34ccbc1d"
      },
      "outputs": [
        {
          "output_type": "stream",
          "name": "stdout",
          "text": [
            "   Precision    Recall\n",
            "0   1.000000  1.000000\n",
            "1   0.888889  0.930233\n",
            "2   0.975610  0.909091\n",
            "3   0.914894  0.955556\n",
            "4   0.973684  0.973684\n",
            "5   0.978723  0.958333\n",
            "6   1.000000  0.980769\n",
            "7   0.978723  0.958333\n",
            "8   0.914894  0.895833\n",
            "9   0.900000  0.957447\n"
          ]
        }
      ],
      "source": [
        "# implement your own code to calacuate precision and recall \n",
        "def custom_precision_recall(conf_matrix, target_names):\n",
        "    precision = np.zeros(len(target_names))\n",
        "    recall = np.zeros(len(target_names))\n",
        "    for i, label in enumerate(target_names):\n",
        "        tp = conf_matrix[i, i]\n",
        "        fp = np.sum(conf_matrix[:, i]) - tp\n",
        "        fn = np.sum(conf_matrix[i, :]) - tp\n",
        "        precision[i] = tp / (tp + fp)\n",
        "        recall[i] = tp / (tp + fn)\n",
        "    \n",
        "    result_df = pd.DataFrame({'Precision': precision, 'Recall': recall}, index=target_names)\n",
        "    return result_df\n",
        "\n",
        "result_df = custom_precision_recall(conf_matrix, databunch.target_names)\n",
        "print(result_df)\n"
      ]
    },
    {
      "cell_type": "code",
      "execution_count": null,
      "metadata": {
        "id": "4lfk-VAIhwHp",
        "outputId": "a7087bc2-4f92-423e-e51e-4194f86d431b",
        "colab": {
          "base_uri": "https://localhost:8080/",
          "height": 363
        }
      },
      "outputs": [
        {
          "output_type": "execute_result",
          "data": {
            "text/plain": [
              "   Precision    Recall\n",
              "0   1.000000  1.000000\n",
              "1   0.888889  0.930233\n",
              "2   0.975610  0.909091\n",
              "3   0.914894  0.955556\n",
              "4   0.973684  0.973684\n",
              "5   0.978723  0.958333\n",
              "6   1.000000  0.980769\n",
              "7   0.978723  0.958333\n",
              "8   0.914894  0.895833\n",
              "9   0.900000  0.957447"
            ],
            "text/html": [
              "\n",
              "  <div id=\"df-3f0c36d6-b55f-4fcc-b7d1-2797e233010d\">\n",
              "    <div class=\"colab-df-container\">\n",
              "      <div>\n",
              "<style scoped>\n",
              "    .dataframe tbody tr th:only-of-type {\n",
              "        vertical-align: middle;\n",
              "    }\n",
              "\n",
              "    .dataframe tbody tr th {\n",
              "        vertical-align: top;\n",
              "    }\n",
              "\n",
              "    .dataframe thead th {\n",
              "        text-align: right;\n",
              "    }\n",
              "</style>\n",
              "<table border=\"1\" class=\"dataframe\">\n",
              "  <thead>\n",
              "    <tr style=\"text-align: right;\">\n",
              "      <th></th>\n",
              "      <th>Precision</th>\n",
              "      <th>Recall</th>\n",
              "    </tr>\n",
              "  </thead>\n",
              "  <tbody>\n",
              "    <tr>\n",
              "      <th>0</th>\n",
              "      <td>1.000000</td>\n",
              "      <td>1.000000</td>\n",
              "    </tr>\n",
              "    <tr>\n",
              "      <th>1</th>\n",
              "      <td>0.888889</td>\n",
              "      <td>0.930233</td>\n",
              "    </tr>\n",
              "    <tr>\n",
              "      <th>2</th>\n",
              "      <td>0.975610</td>\n",
              "      <td>0.909091</td>\n",
              "    </tr>\n",
              "    <tr>\n",
              "      <th>3</th>\n",
              "      <td>0.914894</td>\n",
              "      <td>0.955556</td>\n",
              "    </tr>\n",
              "    <tr>\n",
              "      <th>4</th>\n",
              "      <td>0.973684</td>\n",
              "      <td>0.973684</td>\n",
              "    </tr>\n",
              "    <tr>\n",
              "      <th>5</th>\n",
              "      <td>0.978723</td>\n",
              "      <td>0.958333</td>\n",
              "    </tr>\n",
              "    <tr>\n",
              "      <th>6</th>\n",
              "      <td>1.000000</td>\n",
              "      <td>0.980769</td>\n",
              "    </tr>\n",
              "    <tr>\n",
              "      <th>7</th>\n",
              "      <td>0.978723</td>\n",
              "      <td>0.958333</td>\n",
              "    </tr>\n",
              "    <tr>\n",
              "      <th>8</th>\n",
              "      <td>0.914894</td>\n",
              "      <td>0.895833</td>\n",
              "    </tr>\n",
              "    <tr>\n",
              "      <th>9</th>\n",
              "      <td>0.900000</td>\n",
              "      <td>0.957447</td>\n",
              "    </tr>\n",
              "  </tbody>\n",
              "</table>\n",
              "</div>\n",
              "      <button class=\"colab-df-convert\" onclick=\"convertToInteractive('df-3f0c36d6-b55f-4fcc-b7d1-2797e233010d')\"\n",
              "              title=\"Convert this dataframe to an interactive table.\"\n",
              "              style=\"display:none;\">\n",
              "        \n",
              "  <svg xmlns=\"http://www.w3.org/2000/svg\" height=\"24px\"viewBox=\"0 0 24 24\"\n",
              "       width=\"24px\">\n",
              "    <path d=\"M0 0h24v24H0V0z\" fill=\"none\"/>\n",
              "    <path d=\"M18.56 5.44l.94 2.06.94-2.06 2.06-.94-2.06-.94-.94-2.06-.94 2.06-2.06.94zm-11 1L8.5 8.5l.94-2.06 2.06-.94-2.06-.94L8.5 2.5l-.94 2.06-2.06.94zm10 10l.94 2.06.94-2.06 2.06-.94-2.06-.94-.94-2.06-.94 2.06-2.06.94z\"/><path d=\"M17.41 7.96l-1.37-1.37c-.4-.4-.92-.59-1.43-.59-.52 0-1.04.2-1.43.59L10.3 9.45l-7.72 7.72c-.78.78-.78 2.05 0 2.83L4 21.41c.39.39.9.59 1.41.59.51 0 1.02-.2 1.41-.59l7.78-7.78 2.81-2.81c.8-.78.8-2.07 0-2.86zM5.41 20L4 18.59l7.72-7.72 1.47 1.35L5.41 20z\"/>\n",
              "  </svg>\n",
              "      </button>\n",
              "      \n",
              "  <style>\n",
              "    .colab-df-container {\n",
              "      display:flex;\n",
              "      flex-wrap:wrap;\n",
              "      gap: 12px;\n",
              "    }\n",
              "\n",
              "    .colab-df-convert {\n",
              "      background-color: #E8F0FE;\n",
              "      border: none;\n",
              "      border-radius: 50%;\n",
              "      cursor: pointer;\n",
              "      display: none;\n",
              "      fill: #1967D2;\n",
              "      height: 32px;\n",
              "      padding: 0 0 0 0;\n",
              "      width: 32px;\n",
              "    }\n",
              "\n",
              "    .colab-df-convert:hover {\n",
              "      background-color: #E2EBFA;\n",
              "      box-shadow: 0px 1px 2px rgba(60, 64, 67, 0.3), 0px 1px 3px 1px rgba(60, 64, 67, 0.15);\n",
              "      fill: #174EA6;\n",
              "    }\n",
              "\n",
              "    [theme=dark] .colab-df-convert {\n",
              "      background-color: #3B4455;\n",
              "      fill: #D2E3FC;\n",
              "    }\n",
              "\n",
              "    [theme=dark] .colab-df-convert:hover {\n",
              "      background-color: #434B5C;\n",
              "      box-shadow: 0px 1px 3px 1px rgba(0, 0, 0, 0.15);\n",
              "      filter: drop-shadow(0px 1px 2px rgba(0, 0, 0, 0.3));\n",
              "      fill: #FFFFFF;\n",
              "    }\n",
              "  </style>\n",
              "\n",
              "      <script>\n",
              "        const buttonEl =\n",
              "          document.querySelector('#df-3f0c36d6-b55f-4fcc-b7d1-2797e233010d button.colab-df-convert');\n",
              "        buttonEl.style.display =\n",
              "          google.colab.kernel.accessAllowed ? 'block' : 'none';\n",
              "\n",
              "        async function convertToInteractive(key) {\n",
              "          const element = document.querySelector('#df-3f0c36d6-b55f-4fcc-b7d1-2797e233010d');\n",
              "          const dataTable =\n",
              "            await google.colab.kernel.invokeFunction('convertToInteractive',\n",
              "                                                     [key], {});\n",
              "          if (!dataTable) return;\n",
              "\n",
              "          const docLinkHtml = 'Like what you see? Visit the ' +\n",
              "            '<a target=\"_blank\" href=https://colab.research.google.com/notebooks/data_table.ipynb>data table notebook</a>'\n",
              "            + ' to learn more about interactive tables.';\n",
              "          element.innerHTML = '';\n",
              "          dataTable['output_type'] = 'display_data';\n",
              "          await google.colab.output.renderOutput(dataTable, element);\n",
              "          const docLink = document.createElement('div');\n",
              "          docLink.innerHTML = docLinkHtml;\n",
              "          element.appendChild(docLink);\n",
              "        }\n",
              "      </script>\n",
              "    </div>\n",
              "  </div>\n",
              "  "
            ]
          },
          "metadata": {},
          "execution_count": 92
        }
      ],
      "source": [
        "# Test function for custom_precision_recall, \n",
        "# you should get similar to the below values that also should match the classification_report results from sklearn.\n",
        "custom_precision_recall(conf_matrix, np.arange(10))"
      ]
    },
    {
      "cell_type": "markdown",
      "metadata": {
        "id": "q3Bqp09EhwHq"
      },
      "source": [
        "## Part 2: Support Vector Machine"
      ]
    },
    {
      "cell_type": "markdown",
      "metadata": {
        "id": "dm9WVOCxhwHq"
      },
      "source": [
        "#### Q7) (10 points) SVM model\n",
        "- Create an <a href=\"https://scikit-learn.org/stable/modules/generated/sklearn.svm.SVC.html\">SVC</a> object, imported from sklearn's svm module, use linear or poly kernel.\n",
        "- Call the .fit() function on your model with x_train and y_train as parameters.\n",
        "- Call the .predict() function on your model with x_test as a parameter and store the results."
      ]
    },
    {
      "cell_type": "code",
      "execution_count": null,
      "metadata": {
        "id": "_LzkvN3OhwHr"
      },
      "outputs": [],
      "source": [
        "model = SVC(kernel='poly')\n",
        "model.fit(x_train, y_train)\n",
        "svc_ypred = model.predict(x_test)"
      ]
    },
    {
      "cell_type": "markdown",
      "metadata": {
        "id": "faUoZs9FhwHr"
      },
      "source": [
        "#### Q8) (10 points) Visualization\n",
        "- Use sklearn's confusion matrix function to obtain a confusion matrix in np.array format\n",
        "- Print confusion matrix.\n",
        "- Display this confusion matrix as a heatmap using matplotlib.pyplot's .imshow() function.*"
      ]
    },
    {
      "cell_type": "code",
      "execution_count": null,
      "metadata": {
        "id": "fxz-gSBVhwHr",
        "outputId": "0b5b0711-36be-44b0-9b13-43dae93c7387",
        "colab": {
          "base_uri": "https://localhost:8080/",
          "height": 363
        }
      },
      "outputs": [
        {
          "output_type": "execute_result",
          "data": {
            "text/plain": [
              "    0   1   2   3   4   5   6   7   8   9\n",
              "0  37   0   0   0   0   0   0   0   0   0\n",
              "1   0  43   0   0   0   0   0   0   0   0\n",
              "2   0   0  44   0   0   0   0   0   0   0\n",
              "3   0   0   1  44   0   0   0   0   0   0\n",
              "4   0   0   0   0  38   0   0   0   0   0\n",
              "5   0   0   0   0   0  47   0   0   0   1\n",
              "6   0   1   0   0   0   0  51   0   0   0\n",
              "7   0   0   0   0   0   0   0  48   0   0\n",
              "8   0   1   0   0   0   0   0   0  47   0\n",
              "9   0   0   0   0   0   1   0   0   0  46"
            ],
            "text/html": [
              "\n",
              "  <div id=\"df-09283405-d45c-49ff-9ab3-8ec2f60e8d59\">\n",
              "    <div class=\"colab-df-container\">\n",
              "      <div>\n",
              "<style scoped>\n",
              "    .dataframe tbody tr th:only-of-type {\n",
              "        vertical-align: middle;\n",
              "    }\n",
              "\n",
              "    .dataframe tbody tr th {\n",
              "        vertical-align: top;\n",
              "    }\n",
              "\n",
              "    .dataframe thead th {\n",
              "        text-align: right;\n",
              "    }\n",
              "</style>\n",
              "<table border=\"1\" class=\"dataframe\">\n",
              "  <thead>\n",
              "    <tr style=\"text-align: right;\">\n",
              "      <th></th>\n",
              "      <th>0</th>\n",
              "      <th>1</th>\n",
              "      <th>2</th>\n",
              "      <th>3</th>\n",
              "      <th>4</th>\n",
              "      <th>5</th>\n",
              "      <th>6</th>\n",
              "      <th>7</th>\n",
              "      <th>8</th>\n",
              "      <th>9</th>\n",
              "    </tr>\n",
              "  </thead>\n",
              "  <tbody>\n",
              "    <tr>\n",
              "      <th>0</th>\n",
              "      <td>37</td>\n",
              "      <td>0</td>\n",
              "      <td>0</td>\n",
              "      <td>0</td>\n",
              "      <td>0</td>\n",
              "      <td>0</td>\n",
              "      <td>0</td>\n",
              "      <td>0</td>\n",
              "      <td>0</td>\n",
              "      <td>0</td>\n",
              "    </tr>\n",
              "    <tr>\n",
              "      <th>1</th>\n",
              "      <td>0</td>\n",
              "      <td>43</td>\n",
              "      <td>0</td>\n",
              "      <td>0</td>\n",
              "      <td>0</td>\n",
              "      <td>0</td>\n",
              "      <td>0</td>\n",
              "      <td>0</td>\n",
              "      <td>0</td>\n",
              "      <td>0</td>\n",
              "    </tr>\n",
              "    <tr>\n",
              "      <th>2</th>\n",
              "      <td>0</td>\n",
              "      <td>0</td>\n",
              "      <td>44</td>\n",
              "      <td>0</td>\n",
              "      <td>0</td>\n",
              "      <td>0</td>\n",
              "      <td>0</td>\n",
              "      <td>0</td>\n",
              "      <td>0</td>\n",
              "      <td>0</td>\n",
              "    </tr>\n",
              "    <tr>\n",
              "      <th>3</th>\n",
              "      <td>0</td>\n",
              "      <td>0</td>\n",
              "      <td>1</td>\n",
              "      <td>44</td>\n",
              "      <td>0</td>\n",
              "      <td>0</td>\n",
              "      <td>0</td>\n",
              "      <td>0</td>\n",
              "      <td>0</td>\n",
              "      <td>0</td>\n",
              "    </tr>\n",
              "    <tr>\n",
              "      <th>4</th>\n",
              "      <td>0</td>\n",
              "      <td>0</td>\n",
              "      <td>0</td>\n",
              "      <td>0</td>\n",
              "      <td>38</td>\n",
              "      <td>0</td>\n",
              "      <td>0</td>\n",
              "      <td>0</td>\n",
              "      <td>0</td>\n",
              "      <td>0</td>\n",
              "    </tr>\n",
              "    <tr>\n",
              "      <th>5</th>\n",
              "      <td>0</td>\n",
              "      <td>0</td>\n",
              "      <td>0</td>\n",
              "      <td>0</td>\n",
              "      <td>0</td>\n",
              "      <td>47</td>\n",
              "      <td>0</td>\n",
              "      <td>0</td>\n",
              "      <td>0</td>\n",
              "      <td>1</td>\n",
              "    </tr>\n",
              "    <tr>\n",
              "      <th>6</th>\n",
              "      <td>0</td>\n",
              "      <td>1</td>\n",
              "      <td>0</td>\n",
              "      <td>0</td>\n",
              "      <td>0</td>\n",
              "      <td>0</td>\n",
              "      <td>51</td>\n",
              "      <td>0</td>\n",
              "      <td>0</td>\n",
              "      <td>0</td>\n",
              "    </tr>\n",
              "    <tr>\n",
              "      <th>7</th>\n",
              "      <td>0</td>\n",
              "      <td>0</td>\n",
              "      <td>0</td>\n",
              "      <td>0</td>\n",
              "      <td>0</td>\n",
              "      <td>0</td>\n",
              "      <td>0</td>\n",
              "      <td>48</td>\n",
              "      <td>0</td>\n",
              "      <td>0</td>\n",
              "    </tr>\n",
              "    <tr>\n",
              "      <th>8</th>\n",
              "      <td>0</td>\n",
              "      <td>1</td>\n",
              "      <td>0</td>\n",
              "      <td>0</td>\n",
              "      <td>0</td>\n",
              "      <td>0</td>\n",
              "      <td>0</td>\n",
              "      <td>0</td>\n",
              "      <td>47</td>\n",
              "      <td>0</td>\n",
              "    </tr>\n",
              "    <tr>\n",
              "      <th>9</th>\n",
              "      <td>0</td>\n",
              "      <td>0</td>\n",
              "      <td>0</td>\n",
              "      <td>0</td>\n",
              "      <td>0</td>\n",
              "      <td>1</td>\n",
              "      <td>0</td>\n",
              "      <td>0</td>\n",
              "      <td>0</td>\n",
              "      <td>46</td>\n",
              "    </tr>\n",
              "  </tbody>\n",
              "</table>\n",
              "</div>\n",
              "      <button class=\"colab-df-convert\" onclick=\"convertToInteractive('df-09283405-d45c-49ff-9ab3-8ec2f60e8d59')\"\n",
              "              title=\"Convert this dataframe to an interactive table.\"\n",
              "              style=\"display:none;\">\n",
              "        \n",
              "  <svg xmlns=\"http://www.w3.org/2000/svg\" height=\"24px\"viewBox=\"0 0 24 24\"\n",
              "       width=\"24px\">\n",
              "    <path d=\"M0 0h24v24H0V0z\" fill=\"none\"/>\n",
              "    <path d=\"M18.56 5.44l.94 2.06.94-2.06 2.06-.94-2.06-.94-.94-2.06-.94 2.06-2.06.94zm-11 1L8.5 8.5l.94-2.06 2.06-.94-2.06-.94L8.5 2.5l-.94 2.06-2.06.94zm10 10l.94 2.06.94-2.06 2.06-.94-2.06-.94-.94-2.06-.94 2.06-2.06.94z\"/><path d=\"M17.41 7.96l-1.37-1.37c-.4-.4-.92-.59-1.43-.59-.52 0-1.04.2-1.43.59L10.3 9.45l-7.72 7.72c-.78.78-.78 2.05 0 2.83L4 21.41c.39.39.9.59 1.41.59.51 0 1.02-.2 1.41-.59l7.78-7.78 2.81-2.81c.8-.78.8-2.07 0-2.86zM5.41 20L4 18.59l7.72-7.72 1.47 1.35L5.41 20z\"/>\n",
              "  </svg>\n",
              "      </button>\n",
              "      \n",
              "  <style>\n",
              "    .colab-df-container {\n",
              "      display:flex;\n",
              "      flex-wrap:wrap;\n",
              "      gap: 12px;\n",
              "    }\n",
              "\n",
              "    .colab-df-convert {\n",
              "      background-color: #E8F0FE;\n",
              "      border: none;\n",
              "      border-radius: 50%;\n",
              "      cursor: pointer;\n",
              "      display: none;\n",
              "      fill: #1967D2;\n",
              "      height: 32px;\n",
              "      padding: 0 0 0 0;\n",
              "      width: 32px;\n",
              "    }\n",
              "\n",
              "    .colab-df-convert:hover {\n",
              "      background-color: #E2EBFA;\n",
              "      box-shadow: 0px 1px 2px rgba(60, 64, 67, 0.3), 0px 1px 3px 1px rgba(60, 64, 67, 0.15);\n",
              "      fill: #174EA6;\n",
              "    }\n",
              "\n",
              "    [theme=dark] .colab-df-convert {\n",
              "      background-color: #3B4455;\n",
              "      fill: #D2E3FC;\n",
              "    }\n",
              "\n",
              "    [theme=dark] .colab-df-convert:hover {\n",
              "      background-color: #434B5C;\n",
              "      box-shadow: 0px 1px 3px 1px rgba(0, 0, 0, 0.15);\n",
              "      filter: drop-shadow(0px 1px 2px rgba(0, 0, 0, 0.3));\n",
              "      fill: #FFFFFF;\n",
              "    }\n",
              "  </style>\n",
              "\n",
              "      <script>\n",
              "        const buttonEl =\n",
              "          document.querySelector('#df-09283405-d45c-49ff-9ab3-8ec2f60e8d59 button.colab-df-convert');\n",
              "        buttonEl.style.display =\n",
              "          google.colab.kernel.accessAllowed ? 'block' : 'none';\n",
              "\n",
              "        async function convertToInteractive(key) {\n",
              "          const element = document.querySelector('#df-09283405-d45c-49ff-9ab3-8ec2f60e8d59');\n",
              "          const dataTable =\n",
              "            await google.colab.kernel.invokeFunction('convertToInteractive',\n",
              "                                                     [key], {});\n",
              "          if (!dataTable) return;\n",
              "\n",
              "          const docLinkHtml = 'Like what you see? Visit the ' +\n",
              "            '<a target=\"_blank\" href=https://colab.research.google.com/notebooks/data_table.ipynb>data table notebook</a>'\n",
              "            + ' to learn more about interactive tables.';\n",
              "          element.innerHTML = '';\n",
              "          dataTable['output_type'] = 'display_data';\n",
              "          await google.colab.output.renderOutput(dataTable, element);\n",
              "          const docLink = document.createElement('div');\n",
              "          docLink.innerHTML = docLinkHtml;\n",
              "          element.appendChild(docLink);\n",
              "        }\n",
              "      </script>\n",
              "    </div>\n",
              "  </div>\n",
              "  "
            ]
          },
          "metadata": {},
          "execution_count": 100
        }
      ],
      "source": [
        "conf_matrix = confusion_matrix(y_test, svc_ypred)\n",
        "conf_matrix_to_df(conf_matrix, databunch.target_names)\n",
        "# results depends on your kernal choice, so you might have slightly different results that what shown below."
      ]
    },
    {
      "cell_type": "code",
      "execution_count": null,
      "metadata": {
        "id": "9zO_wKHUhwHs",
        "outputId": "4536eede-17cf-4ca2-dda5-134d55d02222",
        "colab": {
          "base_uri": "https://localhost:8080/",
          "height": 279
        }
      },
      "outputs": [
        {
          "output_type": "display_data",
          "data": {
            "text/plain": [
              "<Figure size 432x288 with 2 Axes>"
            ],
            "image/png": "[encoded data removed]"
          },
          "metadata": {
            "needs_background": "light"
          }
        }
      ],
      "source": [
        "# add your code here, you should get similar results are below \n",
        "plt.imshow(conf_matrix, cmap = \"viridis\")\n",
        "plt.colorbar()\n",
        "plt.xticks(np.arange(10), databunch.target_names)\n",
        "plt.yticks(np.arange(10), databunch.target_names)\n",
        "plt.xlabel(\"True label\")\n",
        "plt.ylabel(\"Predicted label\")\n",
        "plt.show()\n",
        "# (the heatmap depends on your poly or linear kernal choice, so it might be slightly different that yours\n",
        "# this heat map for poly kernal)"
      ]
    },
    {
      "cell_type": "markdown",
      "metadata": {
        "id": "W9zTKYsIhwHt"
      },
      "source": [
        "#### Q9) (15 points) Performance Metrics and Comparison\n",
        "- Create a function to obtain useful metrics for your SVM's performance\n",
        "- There is no specific correct answer for a \"useful metric\", but make sure you can justify your metrics/process"
      ]
    },
    {
      "cell_type": "code",
      "execution_count": null,
      "metadata": {
        "id": "xL4itE5VhwHt",
        "colab": {
          "base_uri": "https://localhost:8080/"
        },
        "outputId": "ddc5c841-b733-45dd-b74b-17bd51afddda"
      },
      "outputs": [
        {
          "output_type": "stream",
          "name": "stdout",
          "text": [
            "   Precision    Recall\n",
            "0   1.000000  1.000000\n",
            "1   0.955556  1.000000\n",
            "2   0.977778  1.000000\n",
            "3   1.000000  0.977778\n",
            "4   1.000000  1.000000\n",
            "5   0.979167  0.979167\n",
            "6   1.000000  0.980769\n",
            "7   1.000000  1.000000\n",
            "8   1.000000  0.979167\n",
            "9   0.978723  0.978723\n"
          ]
        }
      ],
      "source": [
        "\n",
        "def svm_metrics(y_train, svc_ypred):\n",
        "    report = classification_report(y_train, svc_ypred, output_dict=True)\n",
        "    metrics = {}\n",
        "    for key in report:\n",
        "        if key.isnumeric():\n",
        "            metrics[int(key)] = {\n",
        "                \"precision\": report[key][\"precision\"],\n",
        "                \"recall\": report[key][\"recall\"],\n",
        "                \"f1-score\": report[key][\"f1-score\"],\n",
        "                \"support\": report[key][\"support\"]\n",
        "            }\n",
        "    return metrics\n",
        "\n",
        "\n",
        "metrics = custom_precision_recall(conf_matrix, databunch.target_names)\n",
        "print(metrics)"
      ]
    },
    {
      "cell_type": "markdown",
      "metadata": {
        "id": "FAphQIPXhwHt"
      },
      "source": [
        "- How does this performance compare to that of the regression model? (explain why this might be)"
      ]
    },
    {
      "cell_type": "code",
      "execution_count": null,
      "metadata": {
        "id": "7CtXrth9hwHt"
      },
      "outputs": [],
      "source": [
        "#Compared to the logistic regression model, the SVM has a higher precision and recall. signifying that the SVM model is better at making fewer mistakes than the logistic regression model. "
      ]
    },
    {
      "cell_type": "markdown",
      "source": [
        "#Compared to the logistic regression model, the SVM has a higher precision and recall. signifying that the SVM model is better at making fewer mistakes than the logistic regression model. "
      ],
      "metadata": {
        "id": "0Wz-H1-HRXFO"
      }
    },
    {
      "cell_type": "code",
      "source": [],
      "metadata": {
        "id": "aG2zBzjnDT88"
      },
      "execution_count": null,
      "outputs": []
    }
  ],
  "metadata": {
    "kernelspec": {
      "display_name": "Python 3",
      "language": "python",
      "name": "python3"
    },
    "language_info": {
      "codemirror_mode": {
        "name": "ipython",
        "version": 3
      },
      "file_extension": ".py",
      "mimetype": "text/x-python",
      "name": "python",
      "nbconvert_exporter": "python",
      "pygments_lexer": "ipython3",
      "version": "3.7.7"
    },
    "colab": {
      "provenance": [],
      "include_colab_link": true
    }
  },
  "nbformat": 4,
  "nbformat_minor": 0
}