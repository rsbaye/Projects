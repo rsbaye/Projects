{
  "cells": [
    {
      "cell_type": "markdown",
      "metadata": {
        "id": "view-in-github",
        "colab_type": "text"
      },
      "source": [
        "<a href=\"https://colab.research.google.com/github/rsbaye/Projects/blob/main/richmond_baye_Assignment_3.ipynb\" target=\"_parent\"><img src=\"https://colab.research.google.com/assets/colab-badge.svg\" alt=\"Open In Colab\"/></a>"
      ]
    },
    {
      "cell_type": "markdown",
      "metadata": {
        "id": "a1-w1dW9NTnd"
      },
      "source": [
        "# CS 254 Assignment 3\n",
        "\n",
        "Before we start, please put your name in following format:\n",
        "\n",
        "FirstName Lastname, netid //   e.g.) Safwan Wshah, swshah"
      ]
    },
    {
      "cell_type": "markdown",
      "source": [
        "To run your code:\n",
        "\n",
        "*   Save your code to google drive, right click and open using google colab.\n",
        "*   rename the assigmnent file to Yourfirstname_lastname_Assignment2.ipynb.\n",
        "*   Under google drive root directory create the following folder and make sure all your assignments are under this directory (CS254/CS254-Assignments/yournetid-A#). For example, for assignment #3 it should look like this \n",
        "CS254/CS254-Assignments/swshah-A3\n",
        "\n",
        "\n",
        "\n",
        "To submit, please follow the following steps:\n",
        "*   Zip your assignment and name it yournetid-A#.zip For example for assignment 2, it should be swshah-A3.zip.\n",
        "* Submit to blackboard. "
      ],
      "metadata": {
        "id": "Bs4QrAhZNfGk"
      }
    },
    {
      "cell_type": "markdown",
      "source": [
        "### Google Colab Setup\n",
        "Next we need to run a few commands to set up our environment on Google Colab. If you are running this notebook on a local machine you can skip this section.\n",
        "\n",
        "Run the following cell to mount your Google Drive. Follow the link, sign in to your Google account (the same account you used to store this notebook!) and copy the authorization code into the text box that appears below."
      ],
      "metadata": {
        "id": "H4uLsGtJNomW"
      }
    },
    {
      "cell_type": "code",
      "source": [
        "from google.colab import drive\n",
        "drive.mount('/content/drive/')"
      ],
      "metadata": {
        "colab": {
          "base_uri": "https://localhost:8080/"
        },
        "id": "iyTipGMxNvX2",
        "outputId": "4a3b99fe-6680-495d-8897-f5258a7824ae"
      },
      "execution_count": null,
      "outputs": [
        {
          "output_type": "stream",
          "name": "stdout",
          "text": [
            "Mounted at /content/drive/\n"
          ]
        }
      ]
    },
    {
      "cell_type": "code",
      "execution_count": null,
      "metadata": {
        "id": "1OxQUtJGNTnx"
      },
      "outputs": [],
      "source": [
        "import os\n",
        "import numpy as np\n",
        "import pandas as pd\n",
        "import matplotlib.pyplot as plt\n",
        "\n",
        "from sklearn.preprocessing import PolynomialFeatures, MinMaxScaler\n",
        "from past.builtins import xrange\n",
        "from scipy.special import expit\n",
        "\n",
        "%matplotlib inline"
      ]
    },
    {
      "cell_type": "markdown",
      "source": [
        "Now recall the path in your Google Drive where you uploaded this notebook, fill it in below. If everything is working correctly then running the folowing cell should print the filenames from the assignment:\n",
        "\n",
        "\n",
        "['yourfirst_last_name_Assignment_3.ipynb', 'data', 'images']"
      ],
      "metadata": {
        "id": "2J0gnZJ4N8fw"
      }
    },
    {
      "cell_type": "code",
      "source": [
        "import os\n",
        "\n",
        "# TODO: Fill in the Google Drive path where you uploaded the assignment, it should be under CS254/CS254-Assignments/netid-A2\n",
        "GOOGLE_DRIVE_PATH_AFTER_MYDRIVE = 'CS254/CS254-Assignments/rbaye-A3' # change this directory to yours\n",
        "GOOGLE_DRIVE_PATH = os.path.join('drive', 'MyDrive', GOOGLE_DRIVE_PATH_AFTER_MYDRIVE)\n",
        "print(os.listdir(GOOGLE_DRIVE_PATH))"
      ],
      "metadata": {
        "colab": {
          "base_uri": "https://localhost:8080/"
        },
        "id": "7K3Wv_CbOLJJ",
        "outputId": "d9601589-645b-40ae-f043-6f6a1f19c8f7"
      },
      "execution_count": null,
      "outputs": [
        {
          "output_type": "stream",
          "name": "stdout",
          "text": [
            "['data', 'images', 'richmond_baye_Assignment_3.ipynb']\n"
          ]
        }
      ]
    },
    {
      "cell_type": "markdown",
      "metadata": {
        "id": "Vw4BN5qaNTn7"
      },
      "source": [
        "# Part 1(Logistic regression without regularization)\n",
        "\n",
        "In this exercise, you will implement logistic regression and apply it to the Iris dataset found under data directory.\n",
        "\n",
        "In the Iris dataset there are two continuous variables named \"PetalLengthCm\" and \"PetalWidthCm\". The type of flower associated with these features is assigned in the \"species\" column. Setosa is labeled as 0 and Versicolor is labeled as 1. Your task will be to classify between these two types of flowers using logistic regression.\n"
      ]
    },
    {
      "cell_type": "markdown",
      "metadata": {
        "collapsed": true,
        "id": "sxp4-QtXNTn-"
      },
      "source": [
        "### Part 1, Linear Logistic Regression \n",
        "\n",
        "1. [5 points] If you have Setosa labeled as 0 and Versicolor is labeled as 1, what is the logistic regression output mean (in words) for a given sample?"
      ]
    },
    {
      "cell_type": "code",
      "execution_count": null,
      "metadata": {
        "id": "MR-Uc3U8NToA"
      },
      "outputs": [],
      "source": [
        "# If h(x) is 0, the classification is setosa\n",
        "# If h(x) is 1, the calssification is Versicolor"
      ]
    },
    {
      "cell_type": "markdown",
      "metadata": {
        "id": "vIUJz1AVNToC"
      },
      "source": [
        "2. [5 points] Load the data and split it into X(feature vectors) and Y(target/output vectors)."
      ]
    },
    {
      "cell_type": "code",
      "execution_count": null,
      "metadata": {
        "id": "ek_0yXjlNToF",
        "outputId": "99684c8f-887d-4229-f043-5920b74ccb6e",
        "colab": {
          "base_uri": "https://localhost:8080/",
          "height": 206
        }
      },
      "outputs": [
        {
          "output_type": "display_data",
          "data": {
            "text/plain": [
              "   id  PetalLengthCm  PetalWidthCm  species\n",
              "0   1            1.4           0.2        0\n",
              "1   2            1.4           0.2        0\n",
              "2   3            1.3           0.2        0\n",
              "3   4            1.5           0.2        0\n",
              "4   5            1.4           0.2        0"
            ],
            "text/html": [
              "\n",
              "  <div id=\"df-333e256e-8436-408f-9346-0ef3907399a9\">\n",
              "    <div class=\"colab-df-container\">\n",
              "      <div>\n",
              "<style scoped>\n",
              "    .dataframe tbody tr th:only-of-type {\n",
              "        vertical-align: middle;\n",
              "    }\n",
              "\n",
              "    .dataframe tbody tr th {\n",
              "        vertical-align: top;\n",
              "    }\n",
              "\n",
              "    .dataframe thead th {\n",
              "        text-align: right;\n",
              "    }\n",
              "</style>\n",
              "<table border=\"1\" class=\"dataframe\">\n",
              "  <thead>\n",
              "    <tr style=\"text-align: right;\">\n",
              "      <th></th>\n",
              "      <th>id</th>\n",
              "      <th>PetalLengthCm</th>\n",
              "      <th>PetalWidthCm</th>\n",
              "      <th>species</th>\n",
              "    </tr>\n",
              "  </thead>\n",
              "  <tbody>\n",
              "    <tr>\n",
              "      <th>0</th>\n",
              "      <td>1</td>\n",
              "      <td>1.4</td>\n",
              "      <td>0.2</td>\n",
              "      <td>0</td>\n",
              "    </tr>\n",
              "    <tr>\n",
              "      <th>1</th>\n",
              "      <td>2</td>\n",
              "      <td>1.4</td>\n",
              "      <td>0.2</td>\n",
              "      <td>0</td>\n",
              "    </tr>\n",
              "    <tr>\n",
              "      <th>2</th>\n",
              "      <td>3</td>\n",
              "      <td>1.3</td>\n",
              "      <td>0.2</td>\n",
              "      <td>0</td>\n",
              "    </tr>\n",
              "    <tr>\n",
              "      <th>3</th>\n",
              "      <td>4</td>\n",
              "      <td>1.5</td>\n",
              "      <td>0.2</td>\n",
              "      <td>0</td>\n",
              "    </tr>\n",
              "    <tr>\n",
              "      <th>4</th>\n",
              "      <td>5</td>\n",
              "      <td>1.4</td>\n",
              "      <td>0.2</td>\n",
              "      <td>0</td>\n",
              "    </tr>\n",
              "  </tbody>\n",
              "</table>\n",
              "</div>\n",
              "      <button class=\"colab-df-convert\" onclick=\"convertToInteractive('df-333e256e-8436-408f-9346-0ef3907399a9')\"\n",
              "              title=\"Convert this dataframe to an interactive table.\"\n",
              "              style=\"display:none;\">\n",
              "        \n",
              "  <svg xmlns=\"http://www.w3.org/2000/svg\" height=\"24px\"viewBox=\"0 0 24 24\"\n",
              "       width=\"24px\">\n",
              "    <path d=\"M0 0h24v24H0V0z\" fill=\"none\"/>\n",
              "    <path d=\"M18.56 5.44l.94 2.06.94-2.06 2.06-.94-2.06-.94-.94-2.06-.94 2.06-2.06.94zm-11 1L8.5 8.5l.94-2.06 2.06-.94-2.06-.94L8.5 2.5l-.94 2.06-2.06.94zm10 10l.94 2.06.94-2.06 2.06-.94-2.06-.94-.94-2.06-.94 2.06-2.06.94z\"/><path d=\"M17.41 7.96l-1.37-1.37c-.4-.4-.92-.59-1.43-.59-.52 0-1.04.2-1.43.59L10.3 9.45l-7.72 7.72c-.78.78-.78 2.05 0 2.83L4 21.41c.39.39.9.59 1.41.59.51 0 1.02-.2 1.41-.59l7.78-7.78 2.81-2.81c.8-.78.8-2.07 0-2.86zM5.41 20L4 18.59l7.72-7.72 1.47 1.35L5.41 20z\"/>\n",
              "  </svg>\n",
              "      </button>\n",
              "      \n",
              "  <style>\n",
              "    .colab-df-container {\n",
              "      display:flex;\n",
              "      flex-wrap:wrap;\n",
              "      gap: 12px;\n",
              "    }\n",
              "\n",
              "    .colab-df-convert {\n",
              "      background-color: #E8F0FE;\n",
              "      border: none;\n",
              "      border-radius: 50%;\n",
              "      cursor: pointer;\n",
              "      display: none;\n",
              "      fill: #1967D2;\n",
              "      height: 32px;\n",
              "      padding: 0 0 0 0;\n",
              "      width: 32px;\n",
              "    }\n",
              "\n",
              "    .colab-df-convert:hover {\n",
              "      background-color: #E2EBFA;\n",
              "      box-shadow: 0px 1px 2px rgba(60, 64, 67, 0.3), 0px 1px 3px 1px rgba(60, 64, 67, 0.15);\n",
              "      fill: #174EA6;\n",
              "    }\n",
              "\n",
              "    [theme=dark] .colab-df-convert {\n",
              "      background-color: #3B4455;\n",
              "      fill: #D2E3FC;\n",
              "    }\n",
              "\n",
              "    [theme=dark] .colab-df-convert:hover {\n",
              "      background-color: #434B5C;\n",
              "      box-shadow: 0px 1px 3px 1px rgba(0, 0, 0, 0.15);\n",
              "      filter: drop-shadow(0px 1px 2px rgba(0, 0, 0, 0.3));\n",
              "      fill: #FFFFFF;\n",
              "    }\n",
              "  </style>\n",
              "\n",
              "      <script>\n",
              "        const buttonEl =\n",
              "          document.querySelector('#df-333e256e-8436-408f-9346-0ef3907399a9 button.colab-df-convert');\n",
              "        buttonEl.style.display =\n",
              "          google.colab.kernel.accessAllowed ? 'block' : 'none';\n",
              "\n",
              "        async function convertToInteractive(key) {\n",
              "          const element = document.querySelector('#df-333e256e-8436-408f-9346-0ef3907399a9');\n",
              "          const dataTable =\n",
              "            await google.colab.kernel.invokeFunction('convertToInteractive',\n",
              "                                                     [key], {});\n",
              "          if (!dataTable) return;\n",
              "\n",
              "          const docLinkHtml = 'Like what you see? Visit the ' +\n",
              "            '<a target=\"_blank\" href=https://colab.research.google.com/notebooks/data_table.ipynb>data table notebook</a>'\n",
              "            + ' to learn more about interactive tables.';\n",
              "          element.innerHTML = '';\n",
              "          dataTable['output_type'] = 'display_data';\n",
              "          await google.colab.output.renderOutput(dataTable, element);\n",
              "          const docLink = document.createElement('div');\n",
              "          docLink.innerHTML = docLinkHtml;\n",
              "          element.appendChild(docLink);\n",
              "        }\n",
              "      </script>\n",
              "    </div>\n",
              "  </div>\n",
              "  "
            ]
          },
          "metadata": {}
        }
      ],
      "source": [
        "#  Load Iris dataset\n",
        "# This dataset can be found in the \"data\" folder\n",
        "# note that the data has a header and you don't need to specify the header information when you load it.\n",
        "\n",
        "path = GOOGLE_DRIVE_PATH + '/data/Iris.csv'\n",
        "data = pd.read_csv(path, names=[\"id\",\"PetalLengthCm\", \"PetalWidthCm\", \"species\"], header=0)\n",
        "\n",
        "#display part of the dataset. \n",
        "display(data.head())"
      ]
    },
    {
      "cell_type": "markdown",
      "metadata": {
        "id": "NmmX_OSONToM"
      },
      "source": [
        "3. [5 points] Load the data and split it into X(feature vectors) and Y(target/output vector). Add columon of \"ones\" to X and convert both of them to numpy arrays."
      ]
    },
    {
      "cell_type": "code",
      "execution_count": null,
      "metadata": {
        "id": "3FWf2jIJNToQ",
        "outputId": "7b428607-d9e3-4869-965c-93041d61db59",
        "colab": {
          "base_uri": "https://localhost:8080/"
        }
      },
      "outputs": [
        {
          "output_type": "stream",
          "name": "stdout",
          "text": [
            "X shape = (100, 3) , Y shape = (100, 1) X type = <class 'numpy.ndarray'> Y type = <class 'numpy.ndarray'>\n"
          ]
        }
      ],
      "source": [
        "# Add a column of ones to the data for the intercept\n",
        "cols = data.shape[1]\n",
        "\n",
        "# seperate data into X, Y and convert them to numpy arrays.\n",
        "# you might need to reshape Y to convert it to a matrix of (100, 1) diminsions. \n",
        "X = data.iloc[:,1:cols-1]\n",
        "Y = data.iloc[:,cols-1:cols]\n",
        "\n",
        "X.insert(0,\"Ones\", 1)\n",
        "# Convert X and Y to NumPy arrays\n",
        "X = X.to_numpy()\n",
        "Y = Y.to_numpy()\n",
        "\n",
        "print(\"X shape =\", X.shape,\", Y shape =\", Y.shape, \"X type =\", type(X), \"Y type =\", type(Y))\n",
        "#results should be \"X shape = (100, 3) , Y shape = (100, 1) \n",
        "#X type = <class 'numpy.ndarray'> Y type = <class 'numpy.ndarray'>\"\n"
      ]
    },
    {
      "cell_type": "markdown",
      "metadata": {
        "id": "jniLuKjHNToV"
      },
      "source": [
        "This code will visualize your data."
      ]
    },
    {
      "cell_type": "code",
      "execution_count": null,
      "metadata": {
        "id": "fxVS5x1nNToZ",
        "outputId": "abbcf1a9-68e0-4c83-e159-453df9028d79",
        "colab": {
          "base_uri": "https://localhost:8080/",
          "height": 279
        }
      },
      "outputs": [
        {
          "output_type": "display_data",
          "data": {
            "text/plain": [
              "<Figure size 432x288 with 1 Axes>"
            ],
            "image/png": "[encoded data removed]"
          },
          "metadata": {
            "needs_background": "light"
          }
        }
      ],
      "source": [
        "# access class-based data\n",
        "setosa = data.loc[data['species'] == 0]\n",
        "versicolor = data.loc[data['species'] == 1]\n",
        "\n",
        "# data plotting and specifications\n",
        "plt.scatter(setosa['PetalLengthCm'], setosa['PetalWidthCm'], marker = \"+\")\n",
        "plt.scatter(versicolor['PetalLengthCm'], versicolor['PetalWidthCm'], marker = \"o\")\n",
        "\n",
        "# labeling specification\n",
        "plt.xlabel('PetalLengthCm')\n",
        "plt.ylabel('PetalWidthCm')\n",
        "\n",
        "# legend and show calls\n",
        "plt.legend([\"setosa\", \"versicolor\"])\n",
        "plt.show()"
      ]
    },
    {
      "cell_type": "markdown",
      "metadata": {
        "id": "-UNMo4cINToe"
      },
      "source": [
        "4. [5 points] Comment on the data. Is it linearly separable? What are the dimensions of the hypothesis hyperplane for this data?"
      ]
    },
    {
      "cell_type": "code",
      "execution_count": null,
      "metadata": {
        "id": "a1oGSdLYNTog"
      },
      "outputs": [],
      "source": [
        "#The data is linearly seperable. One can simply seperate them with a line and the dimension will be simply 1"
      ]
    },
    {
      "cell_type": "markdown",
      "metadata": {
        "id": "lxlA2AZCNToi"
      },
      "source": [
        "5. [10 points] Before you start with the logistic regression implementation, you need to first implement the hypothesis function, then the cost function and the gradient descent algorithm. Test it when you are finished. Try testing a few values by calling hypothesis(x). For large positive values of x, the hypothesis should be close to 1, while for large negative values, the hypothesis should be close to 0. Evaluating hypothesis(0) should give you exactly 0.5.\n",
        "The equation for sigma is \n",
        "\n",
        "![alt_text](https://drive.google.com/uc?id=1Xryr8KESDE0yE3Bu6fDKgQYG6c6nTALO)\n",
        "\n",
        "\n"
      ]
    },
    {
      "cell_type": "code",
      "execution_count": null,
      "metadata": {
        "id": "OREKCdjhNTok"
      },
      "outputs": [],
      "source": [
        "X = np.array(X)\n",
        "def hypothesis(X, theta):\n",
        "  z = np.dot(X, theta)\n",
        "  h = 1 / (1 + np.exp(-z))\n",
        "  return h"
      ]
    },
    {
      "cell_type": "code",
      "execution_count": null,
      "metadata": {
        "id": "oQPkvpgmNTon",
        "colab": {
          "base_uri": "https://localhost:8080/"
        },
        "outputId": "42f41182-aad1-4d29-dfd3-83bfc30ebcfe"
      },
      "outputs": [
        {
          "output_type": "stream",
          "name": "stdout",
          "text": [
            "(100, 1)\n",
            "[0.5]\n"
          ]
        }
      ],
      "source": [
        "# this is a test function for the hypothesis function implemented above.\n",
        "X = np.array(X).reshape(-1, 3)\n",
        "theta = np.zeros((X.shape[1], 1)) #create a numpy array for zeros.\n",
        "h = hypothesis(X, theta)\n",
        "print (h.shape) # this should be (100, 1)\n",
        "print (h[0]) # this should be 0.5 for all values in h"
      ]
    },
    {
      "cell_type": "markdown",
      "metadata": {
        "id": "HTDSYkKnNTop"
      },
      "source": [
        "6.  [10 points] Implement a logistic regression cost function (calcLogRegressionCost).\n",
        "\n",
        "The vectorized equation for the cost function is given below for your convenience.  \n",
        "\n",
        "\n",
        "![alt_text](https://drive.google.com/uc?id=1ENf1ovYLaC7Bqe7yXuZnEpR0jJ9onzgE)\n",
        "\n"
      ]
    },
    {
      "cell_type": "code",
      "execution_count": null,
      "metadata": {
        "id": "XewIMSUFNTor"
      },
      "outputs": [],
      "source": [
        "def calcLogRegressionCost(X, y, theta):\n",
        "    \n",
        "    \"\"\"\n",
        "    Calculate Logistic Regression Cost\n",
        "    \n",
        "    X: Features matrix\n",
        "    Y: Output matrix\n",
        "    theta: matrix of variable weights\n",
        "    output: return the cost value.\n",
        "    \"\"\"\n",
        "    # cost = add code here\n",
        "    m = y.shape[0]# extract the number of rows in a numpy array y\n",
        "    h = hypothesis(X, theta)\n",
        "    cost = -1 / m * (np.dot(y.T, np.log(h)) + np.dot((1 - y).T, np.log(1 - h)))\n",
        "    return cost\n"
      ]
    },
    {
      "cell_type": "code",
      "execution_count": null,
      "metadata": {
        "id": "3Oa9XbcKNTot",
        "colab": {
          "base_uri": "https://localhost:8080/"
        },
        "outputId": "5447dc32-0635-4ecb-a6a9-125015cd0c40"
      },
      "outputs": [
        {
          "output_type": "stream",
          "name": "stdout",
          "text": [
            "[[0.69314718]]\n"
          ]
        }
      ],
      "source": [
        "#This is a test function that will call \"calcLogRegressionCost\" using the theta initial parameters (zeros). \n",
        "# You should get about 0.693.\n",
        "theta = np.zeros((X.shape[1], 1))\n",
        "print(calcLogRegressionCost(X, Y, theta))\n",
        "\n",
        "# Desired output: 0.693..."
      ]
    },
    {
      "cell_type": "markdown",
      "metadata": {
        "id": "6cHfVs3fNTov"
      },
      "source": [
        "7.  [5 points] Is there a difference between the gradient descent algorithm for linear regression and logistic regression? If yes, what is the difference?"
      ]
    },
    {
      "cell_type": "code",
      "execution_count": null,
      "metadata": {
        "id": "cyKa9P0-NTow"
      },
      "outputs": [],
      "source": [
        "#Yes there is a difference betweeen the gradient descent algorithm for a linear regression and the logistic regression. The difference lies the binary nature of the logistic cost fucntion and its non-linear. And this only leave if y = predicted = 1."
      ]
    },
    {
      "cell_type": "markdown",
      "metadata": {
        "id": "Zqcpk-u-NToz"
      },
      "source": [
        "8.  [15 points] Implement a logistic Regression Gradient Descent algorithm (logRegressionGradientDescent).\n",
        "\n",
        "The vectorized equation for the logisitc Regression Gradient Descent algorithm is given below for your convenience.\n",
        "\n",
        "![alt_text](https://drive.google.com/uc?id=1qZ1v-PpGtOTAVujxhYNOCuwmzHEF-FRE)\n"
      ]
    },
    {
      "cell_type": "code",
      "execution_count": null,
      "metadata": {
        "id": "YGbnU-olNTo0"
      },
      "outputs": [],
      "source": [
        "\n",
        "def logRegressionGradientDescent(X, Y, theta, eta, iters): \n",
        "    \"\"\"\n",
        "    Performs gradient descent optimization on a set of data\n",
        "    \n",
        "    X: Features matrix\n",
        "    Y: Output matrix\n",
        "    theta: matrix of variable weights\n",
        "    eta: learning rate\n",
        "    iters: number of times to iterate the algorithm (epochs)\n",
        "    output: return optimized theta and the cost array for each iteration (epoch). \n",
        "    \"\"\"\n",
        "\n",
        "    \n",
        "    m = len(Y)\n",
        "    cost = np.zeros((iters, 1))\n",
        "    \n",
        "    for i in range(iters):\n",
        "        h = hypothesis(X, theta)\n",
        "        theta = theta - (eta/m) * np.dot(X.T, (h-Y))*2\n",
        "        cost[i] = calcLogRegressionCost(X, Y, theta)\n",
        "    \n",
        "    return theta, cost\n"
      ]
    },
    {
      "cell_type": "markdown",
      "metadata": {
        "id": "BzSO2HeoNTo2"
      },
      "source": [
        "9. [5 Points] As you have the gradient decent algorithm implemented, run the gradient descent algorithm to fit your parameters theta to the training set."
      ]
    },
    {
      "cell_type": "code",
      "execution_count": null,
      "metadata": {
        "id": "MffdfLTZNTo3",
        "colab": {
          "base_uri": "https://localhost:8080/"
        },
        "outputId": "7c661e75-98f5-4365-ccfa-a53a391678c4"
      },
      "outputs": [
        {
          "output_type": "stream",
          "name": "stdout",
          "text": [
            "[[0.00358296]]\n",
            "[[-11.73342243]\n",
            " [  3.24410413]\n",
            " [  4.8722057 ]]\n"
          ]
        }
      ],
      "source": [
        "# this is a test function for logRegressionGradientDescent function. You can change eta and iters \n",
        "# but you will not get the values given below.\n",
        "eta = 0.1\n",
        "iters = 10000\n",
        "theta = np.zeros((X.shape[1], 1))\n",
        "theta, cost = logRegressionGradientDescent(X, Y, theta, eta, iters)\n",
        "print(calcLogRegressionCost(X, Y, theta))\n",
        "print( theta)\n",
        "\n",
        "# you should get these values\n",
        "# For cost [[0.00358296]]\n",
        "# For theta [[-11.73342243]\n",
        "#  [  3.24410413]\n",
        "#  [  4.8722057 ]]\n"
      ]
    },
    {
      "cell_type": "markdown",
      "metadata": {
        "id": "MkvacEOgNTo6"
      },
      "source": [
        "\n",
        "10. [5 Points] Plot the cost by the number of epochs. Is it as expected, why or why not ? What is the best learning rate you chose, and why ?"
      ]
    },
    {
      "cell_type": "code",
      "execution_count": null,
      "metadata": {
        "id": "1LVNnOS8NTo7",
        "colab": {
          "base_uri": "https://localhost:8080/",
          "height": 295
        },
        "outputId": "5bd42b0f-93c0-4a20-8c5a-5c8d68b2e0d7"
      },
      "outputs": [
        {
          "output_type": "display_data",
          "data": {
            "text/plain": [
              "<Figure size 432x288 with 1 Axes>"
            ],
            "image/png": "[encoded data removed]"
          },
          "metadata": {
            "needs_background": "light"
          }
        }
      ],
      "source": [
        "# write your code here ... \n",
        "\n",
        "plt.plot(range(iters), cost, label='Cost Function J(theta)')\n",
        "plt.xlabel('Number of epochs')\n",
        "plt.ylabel('Cost')\n",
        "plt.title('Cost by Number of Epochs')\n",
        "plt.legend()\n",
        "plt.show()\n",
        "\n",
        "\n",
        "#The cost function is expected to be a decreasing function so this is expected because the gradient descent algorithm minimises it. The \n",
        "#The best learning rate is at the point where the cost fucntion is minimum say 0.04"
      ]
    },
    {
      "cell_type": "markdown",
      "metadata": {
        "id": "SsdGBHzKNTo8"
      },
      "source": [
        "11. [5 Points] Suppose that the petal length is 4.5 and petal width is 1.5. Using the hypothesis function, find the probability of this sample being a versicolor."
      ]
    },
    {
      "cell_type": "code",
      "execution_count": null,
      "metadata": {
        "id": "x_3DZiA_NTo9",
        "colab": {
          "base_uri": "https://localhost:8080/"
        },
        "outputId": "1ae9a94e-a797-4a39-91c5-743b139f5552"
      },
      "outputs": [
        {
          "output_type": "stream",
          "name": "stdout",
          "text": [
            "[[0.99996183]]\n"
          ]
        }
      ],
      "source": [
        "x_new = np.array([[1, 4.5, 1.5]])\n",
        "# write your code here.\n",
        "probability = hypothesis(x_new, theta)\n",
        "print(probability)\n",
        "#the probability of the sample is 0.99. this means it belongs to the 1 class since its closser to 1\n"
      ]
    },
    {
      "cell_type": "markdown",
      "metadata": {
        "id": "tCOM3vSqNTo-"
      },
      "source": [
        "This code will plot the decision boundary with respect to the data. The plot will include PetalLengthCm in the X-axis and PetalWidthCm in the Y-axis. Additionally, assign '+' for Setosa points and 'o' for versicolor points. The decision boundary separates the classes using the optimal theta found in the answer in the previous questions."
      ]
    },
    {
      "cell_type": "code",
      "execution_count": null,
      "metadata": {
        "id": "IwnMV7vaNTo_"
      },
      "outputs": [],
      "source": [
        "def plotData(feature1, feature2, label1, label2, feature1AxisLabel, feature2AxisLabel):\n",
        "    plt.figure(figsize=(10,6))\n",
        "    plt.plot(feature1[:,1], feature1[:,2], 'ko', label=label1)\n",
        "    plt.plot(feature2[:,1], feature2[:,2], 'r+', label=label2)\n",
        "    plt.xlabel(feature1AxisLabel)\n",
        "    plt.ylabel(feature2AxisLabel)\n",
        "    plt.legend()\n",
        "    plt.grid()"
      ]
    },
    {
      "cell_type": "code",
      "execution_count": null,
      "metadata": {
        "id": "Xiwtelf6NTpA"
      },
      "outputs": [],
      "source": [
        "def plotDecisionBoundary(X, theta):\n",
        "    \n",
        "    # this will find min,max x values and solve for y = 0 at those positions\n",
        "    boundary_xs = np.array([np.min(X[:,1]), np.max(X[:,1])])\n",
        "    boundary_ys = -1 * (-.5 + theta[0] + theta[1]*boundary_xs) / theta[2]\n",
        "    \n",
        "    # plot points\n",
        "    plt.plot(boundary_xs, boundary_ys, 'b-', label='Decision Boundary')"
      ]
    },
    {
      "cell_type": "code",
      "execution_count": null,
      "metadata": {
        "id": "XM4cpphINTpB",
        "colab": {
          "base_uri": "https://localhost:8080/",
          "height": 388
        },
        "outputId": "bd3664ea-e056-4a8f-83e7-ca077fe5ad73"
      },
      "outputs": [
        {
          "output_type": "display_data",
          "data": {
            "text/plain": [
              "<Figure size 720x432 with 1 Axes>"
            ],
            "image/png": "[encoded data removed]"
          },
          "metadata": {
            "needs_background": "light"
          }
        }
      ],
      "source": [
        "pos = np.array([X[i] for i in xrange(X.shape[0]) if Y[i] == 1])\n",
        "neg = np.array([X[i] for i in xrange(X.shape[0]) if Y[i] == 0])\n",
        "\n",
        "plotData(pos, neg, \"versicolor\", \"setosa\", 'PetalLengthCm', 'PetalWidthCm')\n",
        "plotDecisionBoundary(X, theta)"
      ]
    },
    {
      "cell_type": "markdown",
      "metadata": {
        "id": "Agn7R6LoNTpC"
      },
      "source": [
        "12. [5 Points] Is what you see in the previous figure is what you expected to see? Justify your answer."
      ]
    },
    {
      "cell_type": "code",
      "execution_count": null,
      "metadata": {
        "id": "5lDYSNezNTpD"
      },
      "outputs": [],
      "source": [
        "#This was expected although this was not what was produced in the earlier figure. this time we introduced a line of seperation with a dimension of 1. "
      ]
    },
    {
      "cell_type": "markdown",
      "metadata": {
        "id": "R2bmYe0qNTpE"
      },
      "source": [
        "# Assignment 3 - Part 2 (Nonlinear and Regularized Logistic regression)\n",
        "\n",
        "In this part, you will be asked to implement a Nonlinear and Regularized Logistic regression using Ridge Regularization. To do this you need to work on the ex2data2.txt dataset found under the data directory. In this dataset, there are two continuous independent variables - “Test 1” and “Test 2”. Our target variable is binary and labeled 0(did not passed the test) or 1(passed the test).\n",
        "\n",
        "In this part of the assignment, you will build a logistic regression model to predict whether a sample passed the test or not (a model that estimates the probability of passing based on test 1 and test 2)."
      ]
    },
    {
      "cell_type": "markdown",
      "metadata": {
        "id": "6X5-FEJYNTpG"
      },
      "source": [
        "1. [5 Points] Load the data and split it into X(feature vectors) and Y(target/output vectors). Add a column of \"ones\" to X and convert both of them to numpy arrays. (You can follow the steps from part1)"
      ]
    },
    {
      "cell_type": "code",
      "execution_count": null,
      "metadata": {
        "id": "I0dI-JW9NTpH",
        "colab": {
          "base_uri": "https://localhost:8080/"
        },
        "outputId": "b756d6d1-b0a8-44d1-8cf5-8e2c18262c88"
      },
      "outputs": [
        {
          "output_type": "stream",
          "name": "stdout",
          "text": [
            "X shape = (118, 3) , Y shape = (118, 1) X type = <class 'numpy.ndarray'> Y type = <class 'numpy.ndarray'>\n"
          ]
        }
      ],
      "source": [
        "dir_path = GOOGLE_DRIVE_PATH_AFTER_MYDRIVE + '/data/ex2data2.txt'\n",
        "# add your code here ...\n",
        "path = GOOGLE_DRIVE_PATH + '/data/ex2data2.txt'\n",
        "df = pd.read_csv(path, sep= \",\", header=None)\n",
        "  \n",
        "#name columns \n",
        "df.columns = [\"Test 1\", \"Test 2\", \"Target\"]\n",
        "df.insert(0, \"Ones\", 1)\n",
        "\n",
        "cols = df.shape[1]\n",
        "\n",
        "X = df.iloc[:,0:cols-1]\n",
        "Y = df.iloc[:,cols-1:cols]\n",
        "\n",
        "# Convert X and Y to NumPy arrays\n",
        "X = X.to_numpy()\n",
        "Y = Y.to_numpy()\n",
        "\n",
        "print(\"X shape =\", X.shape,\", Y shape =\", Y.shape, \"X type =\", type(X), \"Y type =\", type(Y))\n"
      ]
    },
    {
      "cell_type": "code",
      "execution_count": null,
      "metadata": {
        "id": "xceOGwIeNTpI",
        "outputId": "653f8f9f-377a-43ce-b511-12052f5378b6",
        "colab": {
          "base_uri": "https://localhost:8080/",
          "height": 265
        }
      },
      "outputs": [
        {
          "output_type": "display_data",
          "data": {
            "text/plain": [
              "<Figure size 432x288 with 1 Axes>"
            ],
            "image/png": "[encoded data removed]"
          },
          "metadata": {
            "needs_background": "light"
          }
        }
      ],
      "source": [
        "# this code will visualize your data, test 1 will be in the X-axis,\n",
        "# test 2 will be on the Y-axis.\n",
        "# we assigned '+' for pass and 'o' for fail\n",
        "# your asnwer should look the figure below\n",
        "pos = np.array([X[i] for i in xrange(X.shape[0]) if Y[i] == 1])\n",
        "neg = np.array([X[i] for i in xrange(X.shape[0]) if Y[i] == 0])\n",
        "\n",
        "def plotData(pos, neg):\n",
        "    \n",
        "    plt.plot(pos[:,1], pos[:,2], 'k+', label='y=1')\n",
        "    plt.plot(neg[:,1], neg[:,2], 'yo', label='y=0')\n",
        "    \n",
        "    plt.legend()\n",
        "    plt.grid()\n",
        "    \n",
        "plotData(pos, neg)"
      ]
    },
    {
      "cell_type": "markdown",
      "metadata": {
        "id": "FWVVPgSJNTpL"
      },
      "source": [
        "2. [5 Points] As you might have noticed, this data is non-linearly separable. Therefore, we have to transform our features with PolynomialFeatures from sklearn. "
      ]
    },
    {
      "cell_type": "markdown",
      "metadata": {
        "id": "3yJiOz2zNTpM"
      },
      "source": [
        "You will need to create a PolynomialFeatures object <b>(with the degree hyperparam set to 6)</b> which we will denote as the variable \"poly\". Then you need to transform the data using this object that you have created. Use the docs to assist you with understanding and implementing your code https://scikit-learn.org/stable/modules/generated/sklearn.preprocessing.PolynomialFeatures.html\n",
        "Note: please note that you are going to apply polynomials only on the original features without the added column of ones, as the sklearn PolynomialFeatures automatically adds a \"ones\" column to the output transformed X (No need to add \"ones\" after you transform using sklearn PolynomialFeatures)."
      ]
    },
    {
      "cell_type": "code",
      "execution_count": null,
      "metadata": {
        "id": "3eTnVO95NTpN"
      },
      "outputs": [],
      "source": [
        "#poly = add your code here\n",
        "#X_poly = add your code here \n",
        "\n",
        "from sklearn.preprocessing import PolynomialFeatures\n",
        "X = np.delete(X, 0,1)\n",
        "poly = PolynomialFeatures(6)\n",
        "X_poly = poly.fit_transform(X)\n"
      ]
    },
    {
      "cell_type": "code",
      "execution_count": null,
      "metadata": {
        "id": "g_Bxv5SGNTpP",
        "colab": {
          "base_uri": "https://localhost:8080/"
        },
        "outputId": "46e9774f-d76c-4352-9ca4-74c5c88d6df2"
      },
      "outputs": [
        {
          "output_type": "stream",
          "name": "stdout",
          "text": [
            "[0.68123732]\n"
          ]
        }
      ],
      "source": [
        "#This part is given for testing purpose, you can change eta and iters to different values\n",
        "# but you are not going to have same cost[0] reported below. \n",
        "eta = 0.5\n",
        "iters = 10000\n",
        "\n",
        "theta_poly_init = np.zeros((X_poly.shape[1], 1))  \n",
        "theta_poly, cost = logRegressionGradientDescent(X_poly, Y, theta_poly_init, eta, iters)\n",
        "print (cost[0]) # cost [0] should be 0.6812373150879889"
      ]
    },
    {
      "cell_type": "markdown",
      "metadata": {
        "id": "niQOWY4nNTpR"
      },
      "source": [
        "3. [5 Points] Plot the cost vs iterations. Comment on the graph."
      ]
    },
    {
      "cell_type": "code",
      "execution_count": null,
      "metadata": {
        "id": "ToCk7sscNTpS",
        "colab": {
          "base_uri": "https://localhost:8080/",
          "height": 295
        },
        "outputId": "908e30e4-90c4-4840-81c3-3b1fbb6e3eb2"
      },
      "outputs": [
        {
          "output_type": "display_data",
          "data": {
            "text/plain": [
              "<Figure size 432x288 with 1 Axes>"
            ],
            "image/png": "[encoded data removed]"
          },
          "metadata": {
            "needs_background": "light"
          }
        }
      ],
      "source": [
        "import matplotlib.pyplot as plt\n",
        "\n",
        "plt.plot(range(iters), cost)\n",
        "plt.xlabel('Iterations')\n",
        "plt.ylabel('Cost')\n",
        "plt.title('Cost vs Iterations')\n",
        "plt.show()\n",
        "\n",
        "#Again the cost function is decreasing because the logistic gradient descent for the polynomial minimises the cost fucntion. Note that the cost function levels off at some point.\n"
      ]
    },
    {
      "cell_type": "markdown",
      "metadata": {
        "id": "Su1azCFTNTpT"
      },
      "source": [
        "This code will plot the decision boundary of the polynominal features. Use logRegressionGradientDescent for plotting the decision boundary."
      ]
    },
    {
      "cell_type": "code",
      "execution_count": null,
      "metadata": {
        "id": "VQ7LQ8NDNTpU"
      },
      "outputs": [],
      "source": [
        "def plotBoundary(theta, X, Y, poly, eta, iters):\n",
        "\n",
        "    # find optimal thetas\n",
        "    theta, cost = logRegressionGradientDescent(X, Y, theta, eta, iters)\n",
        "    \n",
        "    # create search space and placeholder\n",
        "    xvals = np.linspace(-1, 1.5, 100)\n",
        "    yvals = np.linspace(-1, 1.5, 100)\n",
        "    zvals = np.zeros((len(xvals), len(yvals)))\n",
        "    \n",
        "    # compute zval for all combinations of xvals/yvals\n",
        "    for i in range(len(xvals)):\n",
        "        for j in range(len(yvals)):\n",
        "            featuresij = poly.fit_transform(np.array([[xvals[i], yvals[j]]]))\n",
        "            zvals[j][i] = np.dot(theta.T, featuresij.T)\n",
        "    \n",
        "    \n",
        "    contour = plt.contour(xvals, yvals, zvals, [0])\n",
        "    plt.title(\"Decision Boundary \")"
      ]
    },
    {
      "cell_type": "code",
      "execution_count": null,
      "metadata": {
        "id": "0COeAUbMNTpW",
        "colab": {
          "base_uri": "https://localhost:8080/",
          "height": 390
        },
        "outputId": "7fa0889c-4c8d-4fe0-97b8-c26ba819e5c2"
      },
      "outputs": [
        {
          "output_type": "display_data",
          "data": {
            "text/plain": [
              "<Figure size 432x432 with 1 Axes>"
            ],
            "image/png": "[encoded data removed]"
          },
          "metadata": {
            "needs_background": "light"
          }
        }
      ],
      "source": [
        "plt.figure(figsize=(6,6))\n",
        "plotData(pos, neg)\n",
        "plotBoundary(theta_poly, X_poly,Y,poly, eta, iters)\n",
        "\n",
        "#The decision bounary clearly seperates y =1 from y = 0. There is no overfitting in this case. However, there could be a problem of underfitting in this case. One will have to apply a regularization technique to solve this problem."
      ]
    },
    {
      "cell_type": "markdown",
      "metadata": {
        "id": "7svHNb_-NTpY"
      },
      "source": [
        "  4. [5 Points] Comment on the decision boundary. Is the decision boundary behaving as expected? Try higher and lower polynomial degrees and comment on the differences."
      ]
    },
    {
      "cell_type": "markdown",
      "metadata": {
        "id": "xh7rEWndNTpZ"
      },
      "source": [
        "### Part 3, For Graduate Students , Extra Cridet for Undergraduates -  [30 pts]\n",
        "\n",
        " Regularization is an important way to fit the data more accurately. Before going further, you need to implement the Ridge regularized gradient descent for logistic regression with its corresponding regularized cost function."
      ]
    },
    {
      "cell_type": "markdown",
      "metadata": {
        "id": "3IwXW6p7NTpb"
      },
      "source": [
        "\n",
        "\n",
        "1. [10 Points] Implement the Ridge Regularized Logistic Regression cost function named calcLogRegressionCostR following the given equation.\n",
        "\n",
        "\n",
        "\n",
        "![alt_text](https://drive.google.com/uc?id=1YW2f_S5PdoJuCrR3Vw7Lp4seYRN6-5Yq)\n"
      ]
    },
    {
      "cell_type": "code",
      "execution_count": null,
      "metadata": {
        "id": "kKSVWjs7NTpc"
      },
      "outputs": [],
      "source": [
        "def calcLogRegressionCostR(X, Y, theta, alpha):\n",
        "    # X : feature vector\n",
        "    # Y : target vector/ output vector\n",
        "    # theta : weight vector\n",
        "    # alpha : regularization parameter\n",
        "    \n",
        "    # add your code here ...\n",
        "    X = np.delete(X, 0,1)\n",
        "    m = len(Y)\n",
        "    h = 1 / (1 + np.exp(-np.dot(X, theta)))\n",
        "    cost = (-1 / m) * (np.dot(y.T, np.log(h)) + np.dot((1 - Y).T, np.log(1 - h))) + (alpha / (2 * m)) * np.sum(theta[1:]**2)\n",
        "    return cost\n"
      ]
    },
    {
      "cell_type": "markdown",
      "metadata": {
        "id": "UhIvMcJHNTpe"
      },
      "source": [
        "2. [10 Points] Implement logRegressionGradientDescentR . This should be ridge regularized. The equation is \n",
        "\n",
        "![alt_text](https://drive.google.com/uc?id=1j2pR4dNGcmPtYWr_a04FV3gLlx0aKpN2)\n"
      ]
    },
    {
      "cell_type": "code",
      "execution_count": null,
      "metadata": {
        "id": "sXXnjskfNTpf"
      },
      "outputs": [],
      "source": [
        "from numpy.lib.function_base import gradient\n",
        "\n",
        "def logRegressionGradientDescentR(X, Y, theta, eta, iters, alpha):\n",
        "    \"\"\"\n",
        "    Caculating gradients and updating thetas through gradient descent loop with regularization\n",
        "    \n",
        "    X: Features matrix\n",
        "    Y: Output matrix\n",
        "    theta: matrix of variable weights\n",
        "    eta: learning rate\n",
        "    iters: number of epochs for updating theta\n",
        "    alpha: regularization term\n",
        "    return optimized theta and cost\n",
        "    \"\"\"\n",
        "    # add your code here \n",
        "    cost = np.zeros(iters)\n",
        "    for i in range(iters):\n",
        "      h = hypothesis (X, theta)\n",
        "      gradient = (2/len(X)*np.dot(X.T,(h-Y))+ alpha*theta)\n",
        "      theta = theta- eta *gradient\n",
        "      cost[i] = calcLogRegressionCost(X, Y, theta)\n",
        "    return theta, cost"
      ]
    },
    {
      "cell_type": "code",
      "execution_count": null,
      "metadata": {
        "id": "orvsv5R2NTpg"
      },
      "outputs": [],
      "source": [
        "def plotBoundaryR(theta, X, Y, poly, eta, iters, alpha):\n",
        "\n",
        "    # find optimal thetas\n",
        "    theta, cost = logRegressionGradientDescentR(X, Y, theta, eta, iters, alpha)\n",
        "    \n",
        "    # create search space and placeholder\n",
        "    xvals = np.linspace(-1, 1.5, 100)\n",
        "    yvals = np.linspace(-1, 1.5, 100)\n",
        "    zvals = np.zeros((len(xvals), len(yvals)))\n",
        "    \n",
        "    # compute zval for all combinations of xvals/yvals\n",
        "    for i in range(len(xvals)):\n",
        "        for j in range(len(yvals)):\n",
        "            featuresij = poly.fit_transform(np.array([[xvals[i], yvals[j]]]))\n",
        "            zvals[j][i] = np.dot(theta.T, featuresij.T)\n",
        "    \n",
        "    \n",
        "    contour = plt.contour(xvals, yvals, zvals, [0])\n",
        "    plt.title(\"Decision Boundary with Alpha = \" + str(alpha))"
      ]
    },
    {
      "cell_type": "code",
      "execution_count": null,
      "metadata": {
        "id": "1wQPCaYBNTph",
        "colab": {
          "base_uri": "https://localhost:8080/",
          "height": 779
        },
        "outputId": "5a9fdf1d-6567-4955-dcd1-8900169faa94"
      },
      "outputs": [
        {
          "output_type": "display_data",
          "data": {
            "text/plain": [
              "<Figure size 1584x1080 with 4 Axes>"
            ],
            "image/png": "[encoded data removed]"
          },
          "metadata": {
            "needs_background": "light"
          }
        }
      ],
      "source": [
        "#This code will visualize the boundaries for different values of alpha.\n",
        "\n",
        "alpha_vals = [0, 0.03, 0.1, 0.5]\n",
        "plt.figure(figsize=(22,15))\n",
        "\n",
        "for i in range(4):\n",
        "    plt.subplot(221 + i)\n",
        "    plotData(pos, neg)\n",
        "    plotBoundaryR(theta_poly, X_poly, Y, poly, eta, iters, alpha=alpha_vals[i])\n"
      ]
    },
    {
      "cell_type": "markdown",
      "metadata": {
        "id": "Qyy_Vpk3NTpj"
      },
      "source": [
        "3. [10 Points] Comment on the figures above. What is the best combination of polynomial and regularization that works the best, and why?"
      ]
    },
    {
      "cell_type": "code",
      "execution_count": null,
      "metadata": {
        "id": "2LTSbCF8NTpk"
      },
      "outputs": [],
      "source": [
        "# The essence of adding the regularization term (ridge regression) is to reduce overfitting. As shown lower alpha (0 and 0.003) seem to fit the training data well. however, higher alpha values like 0.5 explodes the model. \n",
        "#An ideal alpha will be 0.03"
      ]
    }
  ],
  "metadata": {
    "kernelspec": {
      "display_name": "Python 3",
      "language": "python",
      "name": "python3"
    },
    "language_info": {
      "codemirror_mode": {
        "name": "ipython",
        "version": 3
      },
      "file_extension": ".py",
      "mimetype": "text/x-python",
      "name": "python",
      "nbconvert_exporter": "python",
      "pygments_lexer": "ipython3",
      "version": "3.7.7"
    },
    "colab": {
      "provenance": [],
      "include_colab_link": true
    }
  },
  "nbformat": 4,
  "nbformat_minor": 0
}